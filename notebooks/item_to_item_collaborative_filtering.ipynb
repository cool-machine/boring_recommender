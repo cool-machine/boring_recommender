{
 "cells": [
  {
   "cell_type": "markdown",
   "id": "ee01fe96-a3f6-4f86-b22c-dda92d377e6e",
   "metadata": {},
   "source": [
    "# Item-to-Item Collaborative Filtering\n",
    "\n",
    "This notebook implements a clear, step-by-step approach to item-to-item collaborative filtering for recommendation systems. We'll focus on:\n",
    "\n",
    "1. Understanding the algorithm fundamentals\n",
    "2. Proper handling of training and validation data\n",
    "3. Building an item similarity matrix\n",
    "4. Generating and evaluating recommendations"
   ]
  },
  {
   "cell_type": "code",
   "execution_count": 2,
   "id": "96e134b0-70de-4031-98a8-84d97a6b3a63",
   "metadata": {},
   "outputs": [],
   "source": [
    "\"\"\"\n",
    "Item-to-Item Collaborative Filtering Implementation using Pandas\n",
    "---------------------------------------------------------------\n",
    "\n",
    "This script implements item-to-item collaborative filtering without requiring Spark.\n",
    "It's designed to work with the same data format as the notebook but uses pure Pandas.\n",
    "\"\"\"\n",
    "\n",
    "import pandas as pd\n",
    "import numpy as np\n",
    "from scipy.sparse import csr_matrix\n",
    "from sklearn.metrics.pairwise import cosine_similarity\n",
    "import os"
   ]
  },
  {
   "cell_type": "code",
   "execution_count": 21,
   "id": "a1055b5a-09dc-459f-bd89-6c4a5a13b719",
   "metadata": {
    "editable": true,
    "slideshow": {
     "slide_type": ""
    },
    "tags": []
   },
   "outputs": [
    {
     "name": "stdout",
     "output_type": "stream",
     "text": [
      "1. Loading data...\n",
      "Dataset statistics:\n",
      "  Users: 65536\n",
      "  Items: 33320\n",
      "  Interactions: 2738802\n",
      "  Density: 0.001254\n",
      "\n",
      "Validation users: 65536\n",
      "Validation Items: 4653\n",
      "Validation Interactions: 65536\n",
      "Validation Density: 0.000215\n"
     ]
    }
   ],
   "source": [
    "# Configuration\n",
    "TRAIN_FP = \"../datasets/train_clicks.parquet\"\n",
    "VAL_FP = \"../datasets/valid_clicks.parquet\"\n",
    "NEIGHBORS_FP = \"../datasets/item_neighbors_pandas.parquet\"\n",
    "TOP_K_NEIGH = 50  # number of neighbors to keep per item\n",
    "\n",
    "print(\"1. Loading data...\")\n",
    "# Load training data\n",
    "if os.path.exists(TRAIN_FP):\n",
    "    interactions = pd.read_parquet(TRAIN_FP)\n",
    "    interactions = interactions.rename(columns={\"click_article_id\": \"item_id\"})\n",
    "    interactions = interactions[[\"user_id\", \"item_id\"]].drop_duplicates()\n",
    "    \n",
    "    # Print dataset statistics\n",
    "    num_users = interactions['user_id'].nunique()\n",
    "    num_items = interactions['item_id'].nunique()\n",
    "    num_interactions = len(interactions)\n",
    "    \n",
    "    print(f\"Dataset statistics:\")\n",
    "    print(f\"  Users: {num_users}\")\n",
    "    print(f\"  Items: {num_items}\")\n",
    "    print(f\"  Interactions: {num_interactions}\")\n",
    "    print(f\"  Density: {num_interactions / (num_users * num_items):.6f}\")\n",
    "    \n",
    "    # Load validation data\n",
    "    if os.path.exists(VAL_FP):\n",
    "        val = pd.read_parquet(VAL_FP)\n",
    "        val = val.rename(columns={\"click_article_id\": \"true_item\"})\n",
    "        val = val[[\"user_id\", \"true_item\"]].drop_duplicates()\n",
    "        \n",
    "        val_users = val['user_id'].nunique()\n",
    "        val_items = val['true_item'].nunique()\n",
    "        val_interactions = len(val)\n",
    "        \n",
    "        print(f\"\\nValidation users: {val_users}\")\n",
    "        print(f\"Validation Items: {val_items}\")\n",
    "        print(f\"Validation Interactions: {val_interactions}\")\n",
    "        print(f\"Validation Density: {val_interactions / (val_users * val_items):.6f}\")\n",
    "    else:\n",
    "        print(f\"Warning: Validation file {VAL_FP} not found.\")\n",
    "        val = pd.DataFrame(columns=[\"user_id\", \"true_item\"])\n",
    "else:\n",
    "    print(f\"Error: Training file {TRAIN_FP} not found.\")\n",
    "    exit(1)\n"
   ]
  },
  {
   "cell_type": "code",
   "execution_count": 22,
   "id": "803028c9-189c-416f-853b-812ddd0d08f1",
   "metadata": {},
   "outputs": [
    {
     "data": {
      "text/plain": [
       "(2738802, 2)"
      ]
     },
     "execution_count": 22,
     "metadata": {},
     "output_type": "execute_result"
    }
   ],
   "source": [
    "interactions.shape"
   ]
  },
  {
   "cell_type": "code",
   "execution_count": 23,
   "id": "b619f7a4-7535-4c7b-8652-e9179ea4f0d8",
   "metadata": {},
   "outputs": [
    {
     "data": {
      "text/html": [
       "<div>\n",
       "<style scoped>\n",
       "    .dataframe tbody tr th:only-of-type {\n",
       "        vertical-align: middle;\n",
       "    }\n",
       "\n",
       "    .dataframe tbody tr th {\n",
       "        vertical-align: top;\n",
       "    }\n",
       "\n",
       "    .dataframe thead th {\n",
       "        text-align: right;\n",
       "    }\n",
       "</style>\n",
       "<table border=\"1\" class=\"dataframe\">\n",
       "  <thead>\n",
       "    <tr style=\"text-align: right;\">\n",
       "      <th></th>\n",
       "      <th>user_id</th>\n",
       "      <th>item_id</th>\n",
       "    </tr>\n",
       "  </thead>\n",
       "  <tbody>\n",
       "    <tr>\n",
       "      <th>0</th>\n",
       "      <td>0</td>\n",
       "      <td>26469</td>\n",
       "    </tr>\n",
       "    <tr>\n",
       "      <th>1</th>\n",
       "      <td>0</td>\n",
       "      <td>3330</td>\n",
       "    </tr>\n",
       "    <tr>\n",
       "      <th>2</th>\n",
       "      <td>0</td>\n",
       "      <td>29902</td>\n",
       "    </tr>\n",
       "    <tr>\n",
       "      <th>3</th>\n",
       "      <td>0</td>\n",
       "      <td>59758</td>\n",
       "    </tr>\n",
       "    <tr>\n",
       "      <th>4</th>\n",
       "      <td>0</td>\n",
       "      <td>8796</td>\n",
       "    </tr>\n",
       "  </tbody>\n",
       "</table>\n",
       "</div>"
      ],
      "text/plain": [
       "   user_id  item_id\n",
       "0        0    26469\n",
       "1        0     3330\n",
       "2        0    29902\n",
       "3        0    59758\n",
       "4        0     8796"
      ]
     },
     "execution_count": 23,
     "metadata": {},
     "output_type": "execute_result"
    }
   ],
   "source": [
    "interactions.head()"
   ]
  },
  {
   "cell_type": "code",
   "execution_count": 24,
   "id": "fef463eb-a73c-4e0c-bcd4-0814c3af4717",
   "metadata": {},
   "outputs": [
    {
     "data": {
      "text/html": [
       "<div>\n",
       "<style scoped>\n",
       "    .dataframe tbody tr th:only-of-type {\n",
       "        vertical-align: middle;\n",
       "    }\n",
       "\n",
       "    .dataframe tbody tr th {\n",
       "        vertical-align: top;\n",
       "    }\n",
       "\n",
       "    .dataframe thead th {\n",
       "        text-align: right;\n",
       "    }\n",
       "</style>\n",
       "<table border=\"1\" class=\"dataframe\">\n",
       "  <thead>\n",
       "    <tr style=\"text-align: right;\">\n",
       "      <th></th>\n",
       "      <th>user_id</th>\n",
       "      <th>item_id</th>\n",
       "    </tr>\n",
       "  </thead>\n",
       "  <tbody>\n",
       "    <tr>\n",
       "      <th>2857104</th>\n",
       "      <td>65535</td>\n",
       "      <td>3436</td>\n",
       "    </tr>\n",
       "    <tr>\n",
       "      <th>2857105</th>\n",
       "      <td>65535</td>\n",
       "      <td>63489</td>\n",
       "    </tr>\n",
       "    <tr>\n",
       "      <th>2857106</th>\n",
       "      <td>65535</td>\n",
       "      <td>64075</td>\n",
       "    </tr>\n",
       "    <tr>\n",
       "      <th>2857107</th>\n",
       "      <td>65535</td>\n",
       "      <td>55297</td>\n",
       "    </tr>\n",
       "    <tr>\n",
       "      <th>2857108</th>\n",
       "      <td>65535</td>\n",
       "      <td>59929</td>\n",
       "    </tr>\n",
       "  </tbody>\n",
       "</table>\n",
       "</div>"
      ],
      "text/plain": [
       "         user_id  item_id\n",
       "2857104    65535     3436\n",
       "2857105    65535    63489\n",
       "2857106    65535    64075\n",
       "2857107    65535    55297\n",
       "2857108    65535    59929"
      ]
     },
     "execution_count": 24,
     "metadata": {},
     "output_type": "execute_result"
    }
   ],
   "source": [
    "interactions.tail()"
   ]
  },
  {
   "cell_type": "code",
   "execution_count": 25,
   "id": "9edd8c11-4be8-4211-bd47-067995847ac6",
   "metadata": {},
   "outputs": [
    {
     "data": {
      "text/html": [
       "<div>\n",
       "<style scoped>\n",
       "    .dataframe tbody tr th:only-of-type {\n",
       "        vertical-align: middle;\n",
       "    }\n",
       "\n",
       "    .dataframe tbody tr th {\n",
       "        vertical-align: top;\n",
       "    }\n",
       "\n",
       "    .dataframe thead th {\n",
       "        text-align: right;\n",
       "    }\n",
       "</style>\n",
       "<table border=\"1\" class=\"dataframe\">\n",
       "  <thead>\n",
       "    <tr style=\"text-align: right;\">\n",
       "      <th></th>\n",
       "      <th>user_id</th>\n",
       "      <th>item_id</th>\n",
       "    </tr>\n",
       "  </thead>\n",
       "  <tbody>\n",
       "    <tr>\n",
       "      <th>count</th>\n",
       "      <td>2.738802e+06</td>\n",
       "      <td>2.738802e+06</td>\n",
       "    </tr>\n",
       "    <tr>\n",
       "      <th>mean</th>\n",
       "      <td>3.045681e+04</td>\n",
       "      <td>3.001980e+04</td>\n",
       "    </tr>\n",
       "    <tr>\n",
       "      <th>std</th>\n",
       "      <td>1.915742e+04</td>\n",
       "      <td>1.737093e+04</td>\n",
       "    </tr>\n",
       "    <tr>\n",
       "      <th>min</th>\n",
       "      <td>0.000000e+00</td>\n",
       "      <td>1.000000e+00</td>\n",
       "    </tr>\n",
       "    <tr>\n",
       "      <th>25%</th>\n",
       "      <td>1.348600e+04</td>\n",
       "      <td>1.534700e+04</td>\n",
       "    </tr>\n",
       "    <tr>\n",
       "      <th>50%</th>\n",
       "      <td>2.884300e+04</td>\n",
       "      <td>2.906000e+04</td>\n",
       "    </tr>\n",
       "    <tr>\n",
       "      <th>75%</th>\n",
       "      <td>4.739600e+04</td>\n",
       "      <td>3.982000e+04</td>\n",
       "    </tr>\n",
       "    <tr>\n",
       "      <th>max</th>\n",
       "      <td>6.553500e+04</td>\n",
       "      <td>6.553500e+04</td>\n",
       "    </tr>\n",
       "  </tbody>\n",
       "</table>\n",
       "</div>"
      ],
      "text/plain": [
       "            user_id       item_id\n",
       "count  2.738802e+06  2.738802e+06\n",
       "mean   3.045681e+04  3.001980e+04\n",
       "std    1.915742e+04  1.737093e+04\n",
       "min    0.000000e+00  1.000000e+00\n",
       "25%    1.348600e+04  1.534700e+04\n",
       "50%    2.884300e+04  2.906000e+04\n",
       "75%    4.739600e+04  3.982000e+04\n",
       "max    6.553500e+04  6.553500e+04"
      ]
     },
     "execution_count": 25,
     "metadata": {},
     "output_type": "execute_result"
    }
   ],
   "source": [
    "interactions.describe()"
   ]
  },
  {
   "cell_type": "code",
   "execution_count": 26,
   "id": "07db90cd-bccd-4714-ba2f-34c69a3c1224",
   "metadata": {},
   "outputs": [
    {
     "data": {
      "text/plain": [
       "user_id    65536\n",
       "item_id    33320\n",
       "dtype: int64"
      ]
     },
     "execution_count": 26,
     "metadata": {},
     "output_type": "execute_result"
    }
   ],
   "source": [
    "interactions.nunique()"
   ]
  },
  {
   "cell_type": "code",
   "execution_count": 27,
   "id": "0f2dd593-7333-4be5-87be-d605d79c1152",
   "metadata": {},
   "outputs": [
    {
     "data": {
      "text/html": [
       "<div>\n",
       "<style scoped>\n",
       "    .dataframe tbody tr th:only-of-type {\n",
       "        vertical-align: middle;\n",
       "    }\n",
       "\n",
       "    .dataframe tbody tr th {\n",
       "        vertical-align: top;\n",
       "    }\n",
       "\n",
       "    .dataframe thead th {\n",
       "        text-align: right;\n",
       "    }\n",
       "</style>\n",
       "<table border=\"1\" class=\"dataframe\">\n",
       "  <thead>\n",
       "    <tr style=\"text-align: right;\">\n",
       "      <th></th>\n",
       "      <th>user_id</th>\n",
       "      <th>true_item</th>\n",
       "    </tr>\n",
       "  </thead>\n",
       "  <tbody>\n",
       "    <tr>\n",
       "      <th>0</th>\n",
       "      <td>0</td>\n",
       "      <td>26859</td>\n",
       "    </tr>\n",
       "    <tr>\n",
       "      <th>1</th>\n",
       "      <td>1</td>\n",
       "      <td>36162</td>\n",
       "    </tr>\n",
       "    <tr>\n",
       "      <th>2</th>\n",
       "      <td>2</td>\n",
       "      <td>30760</td>\n",
       "    </tr>\n",
       "    <tr>\n",
       "      <th>3</th>\n",
       "      <td>3</td>\n",
       "      <td>3436</td>\n",
       "    </tr>\n",
       "    <tr>\n",
       "      <th>4</th>\n",
       "      <td>4</td>\n",
       "      <td>30800</td>\n",
       "    </tr>\n",
       "  </tbody>\n",
       "</table>\n",
       "</div>"
      ],
      "text/plain": [
       "   user_id  true_item\n",
       "0        0      26859\n",
       "1        1      36162\n",
       "2        2      30760\n",
       "3        3       3436\n",
       "4        4      30800"
      ]
     },
     "execution_count": 27,
     "metadata": {},
     "output_type": "execute_result"
    }
   ],
   "source": [
    "val.head()"
   ]
  },
  {
   "cell_type": "code",
   "execution_count": null,
   "id": "401a60f1-467e-4b58-8fe5-6a857829f90a",
   "metadata": {},
   "outputs": [],
   "source": []
  },
  {
   "cell_type": "code",
   "execution_count": null,
   "id": "47594a4c-15e0-4104-bf97-36d270066e88",
   "metadata": {},
   "outputs": [],
   "source": []
  },
  {
   "cell_type": "code",
   "execution_count": null,
   "id": "6d0a2350-6089-402e-8043-b68f7431be30",
   "metadata": {},
   "outputs": [],
   "source": []
  },
  {
   "cell_type": "code",
   "execution_count": null,
   "id": "9ba2cdd1-9b18-424e-a051-7f0de757ad6d",
   "metadata": {},
   "outputs": [],
   "source": []
  },
  {
   "cell_type": "code",
   "execution_count": null,
   "id": "7aebb21f-d0ea-448b-87db-38eaa3a28a1d",
   "metadata": {},
   "outputs": [],
   "source": []
  },
  {
   "cell_type": "code",
   "execution_count": null,
   "id": "a16d4316-5a4e-40a5-a0b5-b5bb7c689d4b",
   "metadata": {},
   "outputs": [],
   "source": []
  },
  {
   "cell_type": "markdown",
   "id": "9f214436-7a70-4b88-afe5-d25eb1a1a104",
   "metadata": {},
   "source": [
    "# 2 Computing item popularity "
   ]
  },
  {
   "cell_type": "code",
   "execution_count": 28,
   "id": "cf6546f1-da48-4800-aa3c-96beb48b4788",
   "metadata": {},
   "outputs": [
    {
     "name": "stdout",
     "output_type": "stream",
     "text": [
      "\n",
      "2. Computing item popularity...\n"
     ]
    }
   ],
   "source": [
    "print(\"\\n2. Computing item popularity...\")\n",
    "# Compute item counts (popularity)\n",
    "item_counts = interactions.groupby('item_id').size().reset_index(name='n_i')\n",
    "# print(f\"Item counts statistics:\")\n",
    "# print(item_counts.describe())"
   ]
  },
  {
   "cell_type": "code",
   "execution_count": null,
   "id": "663607cd-d534-4433-9fec-9223fe511aec",
   "metadata": {},
   "outputs": [],
   "source": []
  },
  {
   "cell_type": "code",
   "execution_count": null,
   "id": "71a9ce36-acf7-4adf-92c6-1a47ecd86fec",
   "metadata": {},
   "outputs": [],
   "source": []
  },
  {
   "cell_type": "code",
   "execution_count": null,
   "id": "c76c7df1-1ca1-4e67-9446-72ac64d52d7d",
   "metadata": {},
   "outputs": [],
   "source": []
  },
  {
   "cell_type": "code",
   "execution_count": null,
   "id": "b048d87c-bf4a-4046-af4e-3ffff81e9e77",
   "metadata": {},
   "outputs": [],
   "source": []
  },
  {
   "cell_type": "code",
   "execution_count": null,
   "id": "7eb6e3ff-4dbc-4947-9846-080f39735724",
   "metadata": {},
   "outputs": [],
   "source": []
  },
  {
   "cell_type": "code",
   "execution_count": 29,
   "id": "f933859c-47d0-4047-bb0c-f45b410a44ec",
   "metadata": {},
   "outputs": [
    {
     "name": "stdout",
     "output_type": "stream",
     "text": [
      "\n",
      "2. Computing item popularity...\n"
     ]
    }
   ],
   "source": [
    "print(\"\\n2. Computing item popularity...\")\n",
    "# Compute item counts (popularity)\n",
    "item_counts = interactions.groupby('item_id').size().reset_index(name='n_i')"
   ]
  },
  {
   "cell_type": "code",
   "execution_count": 30,
   "id": "8cce8bbc-c243-449c-8ff2-bf2122f889fc",
   "metadata": {},
   "outputs": [
    {
     "name": "stdout",
     "output_type": "stream",
     "text": [
      "Item counts statistics:\n"
     ]
    },
    {
     "data": {
      "text/html": [
       "<div>\n",
       "<style scoped>\n",
       "    .dataframe tbody tr th:only-of-type {\n",
       "        vertical-align: middle;\n",
       "    }\n",
       "\n",
       "    .dataframe tbody tr th {\n",
       "        vertical-align: top;\n",
       "    }\n",
       "\n",
       "    .dataframe thead th {\n",
       "        text-align: right;\n",
       "    }\n",
       "</style>\n",
       "<table border=\"1\" class=\"dataframe\">\n",
       "  <thead>\n",
       "    <tr style=\"text-align: right;\">\n",
       "      <th></th>\n",
       "      <th>item_id</th>\n",
       "      <th>n_i</th>\n",
       "    </tr>\n",
       "  </thead>\n",
       "  <tbody>\n",
       "    <tr>\n",
       "      <th>count</th>\n",
       "      <td>33320.000000</td>\n",
       "      <td>33320.000000</td>\n",
       "    </tr>\n",
       "    <tr>\n",
       "      <th>mean</th>\n",
       "      <td>31645.998109</td>\n",
       "      <td>82.196939</td>\n",
       "    </tr>\n",
       "    <tr>\n",
       "      <th>std</th>\n",
       "      <td>18518.740181</td>\n",
       "      <td>663.029782</td>\n",
       "    </tr>\n",
       "    <tr>\n",
       "      <th>min</th>\n",
       "      <td>1.000000</td>\n",
       "      <td>1.000000</td>\n",
       "    </tr>\n",
       "    <tr>\n",
       "      <th>25%</th>\n",
       "      <td>15419.750000</td>\n",
       "      <td>1.000000</td>\n",
       "    </tr>\n",
       "    <tr>\n",
       "      <th>50%</th>\n",
       "      <td>31256.500000</td>\n",
       "      <td>2.000000</td>\n",
       "    </tr>\n",
       "    <tr>\n",
       "      <th>75%</th>\n",
       "      <td>46567.500000</td>\n",
       "      <td>12.000000</td>\n",
       "    </tr>\n",
       "    <tr>\n",
       "      <th>max</th>\n",
       "      <td>65535.000000</td>\n",
       "      <td>31925.000000</td>\n",
       "    </tr>\n",
       "  </tbody>\n",
       "</table>\n",
       "</div>"
      ],
      "text/plain": [
       "            item_id           n_i\n",
       "count  33320.000000  33320.000000\n",
       "mean   31645.998109     82.196939\n",
       "std    18518.740181    663.029782\n",
       "min        1.000000      1.000000\n",
       "25%    15419.750000      1.000000\n",
       "50%    31256.500000      2.000000\n",
       "75%    46567.500000     12.000000\n",
       "max    65535.000000  31925.000000"
      ]
     },
     "execution_count": 30,
     "metadata": {},
     "output_type": "execute_result"
    }
   ],
   "source": [
    "print(f\"Item counts statistics:\")\n",
    "item_counts.describe()"
   ]
  },
  {
   "cell_type": "code",
   "execution_count": 33,
   "id": "0c0e57c7-1533-4b8f-b95a-1808b8c2c5d5",
   "metadata": {},
   "outputs": [
    {
     "data": {
      "text/html": [
       "<div>\n",
       "<style scoped>\n",
       "    .dataframe tbody tr th:only-of-type {\n",
       "        vertical-align: middle;\n",
       "    }\n",
       "\n",
       "    .dataframe tbody tr th {\n",
       "        vertical-align: top;\n",
       "    }\n",
       "\n",
       "    .dataframe thead th {\n",
       "        text-align: right;\n",
       "    }\n",
       "</style>\n",
       "<table border=\"1\" class=\"dataframe\">\n",
       "  <thead>\n",
       "    <tr style=\"text-align: right;\">\n",
       "      <th></th>\n",
       "      <th>item_id</th>\n",
       "      <th>n_i</th>\n",
       "    </tr>\n",
       "  </thead>\n",
       "  <tbody>\n",
       "    <tr>\n",
       "      <th>0</th>\n",
       "      <td>1</td>\n",
       "      <td>1</td>\n",
       "    </tr>\n",
       "    <tr>\n",
       "      <th>1</th>\n",
       "      <td>3</td>\n",
       "      <td>1</td>\n",
       "    </tr>\n",
       "    <tr>\n",
       "      <th>2</th>\n",
       "      <td>8</td>\n",
       "      <td>1</td>\n",
       "    </tr>\n",
       "    <tr>\n",
       "      <th>3</th>\n",
       "      <td>9</td>\n",
       "      <td>1</td>\n",
       "    </tr>\n",
       "    <tr>\n",
       "      <th>4</th>\n",
       "      <td>11</td>\n",
       "      <td>1</td>\n",
       "    </tr>\n",
       "  </tbody>\n",
       "</table>\n",
       "</div>"
      ],
      "text/plain": [
       "   item_id  n_i\n",
       "0        1    1\n",
       "1        3    1\n",
       "2        8    1\n",
       "3        9    1\n",
       "4       11    1"
      ]
     },
     "execution_count": 33,
     "metadata": {},
     "output_type": "execute_result"
    }
   ],
   "source": [
    "item_counts.head()"
   ]
  },
  {
   "cell_type": "code",
   "execution_count": 34,
   "id": "d5f74e9d-0815-4e15-9a92-2d31723f881c",
   "metadata": {},
   "outputs": [
    {
     "data": {
      "text/html": [
       "<div>\n",
       "<style scoped>\n",
       "    .dataframe tbody tr th:only-of-type {\n",
       "        vertical-align: middle;\n",
       "    }\n",
       "\n",
       "    .dataframe tbody tr th {\n",
       "        vertical-align: top;\n",
       "    }\n",
       "\n",
       "    .dataframe thead th {\n",
       "        text-align: right;\n",
       "    }\n",
       "</style>\n",
       "<table border=\"1\" class=\"dataframe\">\n",
       "  <thead>\n",
       "    <tr style=\"text-align: right;\">\n",
       "      <th></th>\n",
       "      <th>item_id</th>\n",
       "      <th>n_i</th>\n",
       "    </tr>\n",
       "  </thead>\n",
       "  <tbody>\n",
       "    <tr>\n",
       "      <th>33315</th>\n",
       "      <td>65520</td>\n",
       "      <td>1</td>\n",
       "    </tr>\n",
       "    <tr>\n",
       "      <th>33316</th>\n",
       "      <td>65523</td>\n",
       "      <td>1</td>\n",
       "    </tr>\n",
       "    <tr>\n",
       "      <th>33317</th>\n",
       "      <td>65527</td>\n",
       "      <td>1</td>\n",
       "    </tr>\n",
       "    <tr>\n",
       "      <th>33318</th>\n",
       "      <td>65534</td>\n",
       "      <td>14</td>\n",
       "    </tr>\n",
       "    <tr>\n",
       "      <th>33319</th>\n",
       "      <td>65535</td>\n",
       "      <td>30</td>\n",
       "    </tr>\n",
       "  </tbody>\n",
       "</table>\n",
       "</div>"
      ],
      "text/plain": [
       "       item_id  n_i\n",
       "33315    65520    1\n",
       "33316    65523    1\n",
       "33317    65527    1\n",
       "33318    65534   14\n",
       "33319    65535   30"
      ]
     },
     "execution_count": 34,
     "metadata": {},
     "output_type": "execute_result"
    }
   ],
   "source": [
    "item_counts.tail()"
   ]
  },
  {
   "cell_type": "markdown",
   "id": "69436a9e-94cc-4704-bf2f-baa7f6bf2861",
   "metadata": {},
   "source": [
    "# 3 Creating user-item matrix"
   ]
  },
  {
   "cell_type": "code",
   "execution_count": 35,
   "id": "67875778-7009-47c4-8b7a-f6819fdfd4b7",
   "metadata": {},
   "outputs": [
    {
     "name": "stdout",
     "output_type": "stream",
     "text": [
      "\n",
      "3. Creating user-item matrix...\n"
     ]
    }
   ],
   "source": [
    "print(\"\\n3. Creating user-item matrix...\")\n",
    "# Create a sparse user-item matrix\n",
    "user_ids = interactions['user_id'].unique()\n",
    "item_ids = interactions['item_id'].unique()"
   ]
  },
  {
   "cell_type": "code",
   "execution_count": 11,
   "id": "e12b6e29-669b-4d47-99cb-281f60d8ba6d",
   "metadata": {},
   "outputs": [
    {
     "data": {
      "text/plain": [
       "(65536,)"
      ]
     },
     "execution_count": 11,
     "metadata": {},
     "output_type": "execute_result"
    }
   ],
   "source": [
    "user_ids.shape"
   ]
  },
  {
   "cell_type": "code",
   "execution_count": 18,
   "id": "43f56f30-fe12-4208-9c79-5b289fab0127",
   "metadata": {},
   "outputs": [
    {
     "data": {
      "text/plain": [
       "array([65531, 65532, 65533, 65534, 65535], dtype=uint16)"
      ]
     },
     "execution_count": 18,
     "metadata": {},
     "output_type": "execute_result"
    }
   ],
   "source": [
    "user_ids[-5:]"
   ]
  },
  {
   "cell_type": "code",
   "execution_count": 13,
   "id": "e1b075e6-5371-47f1-b6a5-332af6457325",
   "metadata": {},
   "outputs": [
    {
     "data": {
      "text/plain": [
       "(33320,)"
      ]
     },
     "execution_count": 13,
     "metadata": {},
     "output_type": "execute_result"
    }
   ],
   "source": [
    "item_ids.shape"
   ]
  },
  {
   "cell_type": "code",
   "execution_count": 14,
   "id": "4fd9b3e9-92ef-4f15-814b-8edf7588a0ac",
   "metadata": {},
   "outputs": [
    {
     "data": {
      "text/plain": [
       "array([26469,  3330, 29902, 59758,  8796], dtype=uint16)"
      ]
     },
     "execution_count": 14,
     "metadata": {},
     "output_type": "execute_result"
    }
   ],
   "source": [
    "item_ids[:5]"
   ]
  },
  {
   "cell_type": "code",
   "execution_count": 36,
   "id": "10db1d03-3349-4c84-ad24-9fb962b78dff",
   "metadata": {},
   "outputs": [],
   "source": [
    "# Create mappings for user and item indices\n",
    "user_to_idx = {user: i for i, user in enumerate(user_ids)}\n",
    "item_to_idx = {item: i for i, item in enumerate(item_ids)}\n",
    "idx_to_item = {i: item for item, i in item_to_idx.items()}"
   ]
  },
  {
   "cell_type": "code",
   "execution_count": 37,
   "id": "7faf9d3f-a35b-4c81-86be-179ec8551c71",
   "metadata": {},
   "outputs": [],
   "source": [
    "# Create a sparse matrix\n",
    "rows = [user_to_idx[user] for user in interactions['user_id']]\n",
    "cols = [item_to_idx[item] for item in interactions['item_id']]\n",
    "data = np.ones(len(interactions))\n",
    "\n",
    "user_item_matrix = csr_matrix((data, (rows, cols)), shape=(len(user_ids), len(item_ids)))"
   ]
  },
  {
   "cell_type": "code",
   "execution_count": 38,
   "id": "ff90fe9e-25f8-4f8b-b4d3-4edf0b7803e3",
   "metadata": {},
   "outputs": [
    {
     "data": {
      "text/plain": [
       "(65536, 33320)"
      ]
     },
     "execution_count": 38,
     "metadata": {},
     "output_type": "execute_result"
    }
   ],
   "source": [
    "user_item_matrix.shape"
   ]
  },
  {
   "cell_type": "markdown",
   "id": "c817f562-7166-41e6-b109-db96e86b43c2",
   "metadata": {},
   "source": [
    "# 4 Computing item similarity matrix"
   ]
  },
  {
   "cell_type": "code",
   "execution_count": 41,
   "id": "81e2b195-5a42-4de4-b34f-82ab603fa86e",
   "metadata": {},
   "outputs": [
    {
     "name": "stdout",
     "output_type": "stream",
     "text": [
      "\n",
      "4. Computing item similarity matrix...\n",
      "   Computing cosine similarity (this may take a while)...\n"
     ]
    }
   ],
   "source": [
    "print(\"\\n4. Computing item similarity matrix...\")\n",
    "# Compute cosine similarity between items\n",
    "# Note: This can be memory-intensive for large datasets\n",
    "print(\"   Computing cosine similarity (this may take a while)...\")\n",
    "item_similarity = cosine_similarity(user_item_matrix.T, dense_output=False)\n"
   ]
  },
  {
   "cell_type": "code",
   "execution_count": 43,
   "id": "2018ee1f-bad4-436f-b765-b8f6a17e0326",
   "metadata": {},
   "outputs": [
    {
     "data": {
      "text/plain": [
       "(33320, 33320)"
      ]
     },
     "execution_count": 43,
     "metadata": {},
     "output_type": "execute_result"
    }
   ],
   "source": [
    "item_similarity.shape"
   ]
  },
  {
   "cell_type": "markdown",
   "id": "e6cddade-1de3-4a31-b02b-a47720525bcc",
   "metadata": {},
   "source": [
    "# 5 Extracting top neighbors for each item"
   ]
  },
  {
   "cell_type": "code",
   "execution_count": 45,
   "id": "fb202b59-ab83-4c95-9065-3c3026351f97",
   "metadata": {},
   "outputs": [
    {
     "name": "stdout",
     "output_type": "stream",
     "text": [
      "\n",
      "5. Extracting top neighbors for each item...\n"
     ]
    },
    {
     "name": "stderr",
     "output_type": "stream",
     "text": [
      "100%|███████████████| 33320/33320 [00:10<00:00, 3300.82it/s]\n"
     ]
    },
    {
     "name": "stdout",
     "output_type": "stream",
     "text": [
      "\n",
      "Sample of item neighbors:\n",
      "   item_id  neighbor_id       sim\n",
      "0    26469        27117  0.173968\n",
      "1    26469        31297  0.091930\n",
      "2    26469        26060  0.073596\n",
      "3    26469        10514  0.068871\n",
      "4    26469         4861  0.067791\n",
      "5    26469        29902  0.065823\n",
      "6    26469        27107  0.065420\n",
      "7    26469        27010  0.058642\n",
      "8    26469        38622  0.058205\n",
      "9    26469        38090  0.058058\n",
      "Items with at least one neighbor: 33320 out of 33320\n"
     ]
    }
   ],
   "source": [
    "print(\"\\n5. Extracting top neighbors for each item...\")\n",
    "# Extract top-K neighbors for each item\n",
    "from tqdm import tqdm\n",
    "neighbors_list = []\n",
    "\n",
    "for i in tqdm(range(len(item_ids))):\n",
    "    item = idx_to_item[i]\n",
    "    # Get similarity scores for this item\n",
    "    sim_scores = item_similarity[i].toarray().flatten()\n",
    "    \n",
    "    # Get indices of top neighbors (excluding self)\n",
    "    sim_scores[i] = 0  # Exclude self-similarity\n",
    "    top_indices = np.argsort(sim_scores)[-TOP_K_NEIGH:][::-1]\n",
    "    top_scores = sim_scores[top_indices]\n",
    "    \n",
    "    # Filter out zero similarities\n",
    "    nonzero_mask = top_scores > 0\n",
    "    top_indices = top_indices[nonzero_mask]\n",
    "    top_scores = top_scores[nonzero_mask]\n",
    "    \n",
    "    # Add to neighbors list\n",
    "    for idx, score in zip(top_indices, top_scores):\n",
    "        neighbors_list.append({\n",
    "            'item_id': item,\n",
    "            'neighbor_id': idx_to_item[idx],\n",
    "            'sim': score\n",
    "        })\n",
    "\n",
    "# Convert to DataFrame\n",
    "item_neighbors = pd.DataFrame(neighbors_list)\n",
    "\n",
    "print(f\"\\nSample of item neighbors:\")\n",
    "print(item_neighbors.head(10))\n",
    "\n",
    "# Count how many items have neighbors\n",
    "items_with_neighbors = item_neighbors['item_id'].nunique()\n",
    "print(f\"Items with at least one neighbor: {items_with_neighbors} out of {num_items}\")\n"
   ]
  },
  {
   "cell_type": "code",
   "execution_count": null,
   "id": "171d34ed-eecf-440c-a5d5-b8f6802eb543",
   "metadata": {},
   "outputs": [],
   "source": []
  },
  {
   "cell_type": "markdown",
   "id": "46f2c784-bca6-4d64-b83b-0b21f5f5aa94",
   "metadata": {},
   "source": [
    "# 6 Saving item neighbors"
   ]
  },
  {
   "cell_type": "code",
   "execution_count": 46,
   "id": "8cf881f9-734d-4116-8e4c-a22173b58a30",
   "metadata": {},
   "outputs": [
    {
     "name": "stdout",
     "output_type": "stream",
     "text": [
      "\n",
      "6. Saving item neighbors to ../datasets/item_neighbors_pandas.parquet...\n"
     ]
    }
   ],
   "source": [
    "print(f\"\\n6. Saving item neighbors to {NEIGHBORS_FP}...\")\n",
    "item_neighbors.to_parquet(NEIGHBORS_FP, index=False)\n"
   ]
  },
  {
   "cell_type": "code",
   "execution_count": null,
   "id": "11272bab-94c7-4c89-a064-54ac001b3f9e",
   "metadata": {},
   "outputs": [],
   "source": []
  },
  {
   "cell_type": "code",
   "execution_count": null,
   "id": "88d85069-da15-4d89-9d2d-b88e7f4aec5e",
   "metadata": {},
   "outputs": [],
   "source": []
  },
  {
   "cell_type": "code",
   "execution_count": null,
   "id": "105f139a-c179-45c6-8f2d-89fc52811fc4",
   "metadata": {},
   "outputs": [],
   "source": []
  },
  {
   "cell_type": "markdown",
   "id": "4e0fd0bd-3c79-4c24-9db2-6e09ee8c87a3",
   "metadata": {},
   "source": [
    "# 7. Generating recommendations"
   ]
  },
  {
   "cell_type": "code",
   "execution_count": 48,
   "id": "e812551e-83d1-41e2-bf72-02f7a63d0a42",
   "metadata": {
    "editable": true,
    "slideshow": {
     "slide_type": ""
    },
    "tags": []
   },
   "outputs": [
    {
     "name": "stdout",
     "output_type": "stream",
     "text": [
      "\n",
      "7. Generating recommendations...\n",
      "  Computing recommendations...\n"
     ]
    },
    {
     "ename": "KeyboardInterrupt",
     "evalue": "",
     "output_type": "error",
     "traceback": [
      "\u001b[0;31m---------------------------------------------------------------------------\u001b[0m",
      "\u001b[0;31mKeyboardInterrupt\u001b[0m                         Traceback (most recent call last)",
      "Cell \u001b[0;32mIn[48], line 26\u001b[0m\n\u001b[1;32m     23\u001b[0m     \u001b[38;5;28;01mcontinue\u001b[39;00m\n\u001b[1;32m     25\u001b[0m \u001b[38;5;66;03m# Get similar items to those in history\u001b[39;00m\n\u001b[0;32m---> 26\u001b[0m user_recs \u001b[38;5;241m=\u001b[39m item_neighbors[\u001b[43mitem_neighbors\u001b[49m\u001b[43m[\u001b[49m\u001b[38;5;124;43m'\u001b[39;49m\u001b[38;5;124;43mitem_id\u001b[39;49m\u001b[38;5;124;43m'\u001b[39;49m\u001b[43m]\u001b[49m\u001b[38;5;241;43m.\u001b[39;49m\u001b[43misin\u001b[49m\u001b[43m(\u001b[49m\u001b[43muser_items\u001b[49m\u001b[43m)\u001b[49m]\u001b[38;5;241m.\u001b[39mcopy()\n\u001b[1;32m     28\u001b[0m \u001b[38;5;66;03m# Remove items the user has already interacted with\u001b[39;00m\n\u001b[1;32m     29\u001b[0m user_recs \u001b[38;5;241m=\u001b[39m user_recs[\u001b[38;5;241m~\u001b[39muser_recs[\u001b[38;5;124m'\u001b[39m\u001b[38;5;124mneighbor_id\u001b[39m\u001b[38;5;124m'\u001b[39m]\u001b[38;5;241m.\u001b[39misin(user_items)]\n",
      "File \u001b[0;32m~/miniconda3/envs/p9-recsys/lib/python3.8/site-packages/pandas/core/series.py:5406\u001b[0m, in \u001b[0;36mSeries.isin\u001b[0;34m(self, values)\u001b[0m\n\u001b[1;32m   5333\u001b[0m \u001b[38;5;28;01mdef\u001b[39;00m \u001b[38;5;21misin\u001b[39m(\u001b[38;5;28mself\u001b[39m, values) \u001b[38;5;241m-\u001b[39m\u001b[38;5;241m>\u001b[39m Series:\n\u001b[1;32m   5334\u001b[0m \u001b[38;5;250m    \u001b[39m\u001b[38;5;124;03m\"\"\"\u001b[39;00m\n\u001b[1;32m   5335\u001b[0m \u001b[38;5;124;03m    Whether elements in Series are contained in `values`.\u001b[39;00m\n\u001b[1;32m   5336\u001b[0m \n\u001b[0;32m   (...)\u001b[0m\n\u001b[1;32m   5404\u001b[0m \u001b[38;5;124;03m    dtype: bool\u001b[39;00m\n\u001b[1;32m   5405\u001b[0m \u001b[38;5;124;03m    \"\"\"\u001b[39;00m\n\u001b[0;32m-> 5406\u001b[0m     result \u001b[38;5;241m=\u001b[39m \u001b[43malgorithms\u001b[49m\u001b[38;5;241;43m.\u001b[39;49m\u001b[43misin\u001b[49m\u001b[43m(\u001b[49m\u001b[38;5;28;43mself\u001b[39;49m\u001b[38;5;241;43m.\u001b[39;49m\u001b[43m_values\u001b[49m\u001b[43m,\u001b[49m\u001b[43m \u001b[49m\u001b[43mvalues\u001b[49m\u001b[43m)\u001b[49m\n\u001b[1;32m   5407\u001b[0m     \u001b[38;5;28;01mreturn\u001b[39;00m \u001b[38;5;28mself\u001b[39m\u001b[38;5;241m.\u001b[39m_constructor(result, index\u001b[38;5;241m=\u001b[39m\u001b[38;5;28mself\u001b[39m\u001b[38;5;241m.\u001b[39mindex, copy\u001b[38;5;241m=\u001b[39m\u001b[38;5;28;01mFalse\u001b[39;00m)\u001b[38;5;241m.\u001b[39m__finalize__(\n\u001b[1;32m   5408\u001b[0m         \u001b[38;5;28mself\u001b[39m, method\u001b[38;5;241m=\u001b[39m\u001b[38;5;124m\"\u001b[39m\u001b[38;5;124misin\u001b[39m\u001b[38;5;124m\"\u001b[39m\n\u001b[1;32m   5409\u001b[0m     )\n",
      "File \u001b[0;32m~/miniconda3/envs/p9-recsys/lib/python3.8/site-packages/pandas/core/algorithms.py:531\u001b[0m, in \u001b[0;36misin\u001b[0;34m(comps, values)\u001b[0m\n\u001b[1;32m    528\u001b[0m     comps_array \u001b[38;5;241m=\u001b[39m comps_array\u001b[38;5;241m.\u001b[39mastype(common, copy\u001b[38;5;241m=\u001b[39m\u001b[38;5;28;01mFalse\u001b[39;00m)\n\u001b[1;32m    529\u001b[0m     f \u001b[38;5;241m=\u001b[39m htable\u001b[38;5;241m.\u001b[39mismember\n\u001b[0;32m--> 531\u001b[0m \u001b[38;5;28;01mreturn\u001b[39;00m \u001b[43mf\u001b[49m\u001b[43m(\u001b[49m\u001b[43mcomps_array\u001b[49m\u001b[43m,\u001b[49m\u001b[43m \u001b[49m\u001b[43mvalues\u001b[49m\u001b[43m)\u001b[49m\n",
      "File \u001b[0;32m<__array_function__ internals>:200\u001b[0m, in \u001b[0;36min1d\u001b[0;34m(*args, **kwargs)\u001b[0m\n",
      "File \u001b[0;32m~/miniconda3/envs/p9-recsys/lib/python3.8/site-packages/numpy/lib/arraysetops.py:733\u001b[0m, in \u001b[0;36min1d\u001b[0;34m(ar1, ar2, assume_unique, invert, kind)\u001b[0m\n\u001b[1;32m    731\u001b[0m         mask \u001b[38;5;241m=\u001b[39m np\u001b[38;5;241m.\u001b[39mzeros(\u001b[38;5;28mlen\u001b[39m(ar1), dtype\u001b[38;5;241m=\u001b[39m\u001b[38;5;28mbool\u001b[39m)\n\u001b[1;32m    732\u001b[0m         \u001b[38;5;28;01mfor\u001b[39;00m a \u001b[38;5;129;01min\u001b[39;00m ar2:\n\u001b[0;32m--> 733\u001b[0m             mask \u001b[38;5;241m|\u001b[39m\u001b[38;5;241m=\u001b[39m (\u001b[43mar1\u001b[49m\u001b[43m \u001b[49m\u001b[38;5;241;43m==\u001b[39;49m\u001b[43m \u001b[49m\u001b[43ma\u001b[49m)\n\u001b[1;32m    734\u001b[0m     \u001b[38;5;28;01mreturn\u001b[39;00m mask\n\u001b[1;32m    736\u001b[0m \u001b[38;5;66;03m# Otherwise use sorting\u001b[39;00m\n",
      "\u001b[0;31mKeyboardInterrupt\u001b[0m: "
     ]
    }
   ],
   "source": [
    "print(\"\\n7. Generating recommendations...\")\n",
    "# Generate recommendations for users in validation set\n",
    "if len(val) > 0:\n",
    "    # Get user history from training data\n",
    "    user_history = interactions.copy()\n",
    "    \n",
    "    # Generate recommendations\n",
    "    print(\"  Computing recommendations...\")\n",
    "    \n",
    "    # This is a simplified approach - for each user:\n",
    "    # 1. Get their history\n",
    "    # 2. Find similar items to those in their history\n",
    "    # 3. Aggregate similarity scores\n",
    "    # 4. Rank and recommend\n",
    "    \n",
    "    all_recs = []\n",
    "    \n",
    "    for user_id in val['user_id'].unique():\n",
    "        # Get user's history\n",
    "        user_items = interactions[interactions['user_id'] == user_id]['item_id'].tolist()\n",
    "        \n",
    "        if not user_items:\n",
    "            continue\n",
    "            \n",
    "        # Get similar items to those in history\n",
    "        user_recs = item_neighbors[item_neighbors['item_id'].isin(user_items)].copy()\n",
    "        \n",
    "        # Remove items the user has already interacted with\n",
    "        user_recs = user_recs[~user_recs['neighbor_id'].isin(user_items)]\n",
    "        \n",
    "        if user_recs.empty:\n",
    "            continue\n",
    "            \n",
    "        # Aggregate similarity scores for each recommended item\n",
    "        user_recs = user_recs.groupby('neighbor_id')['sim'].sum().reset_index()\n",
    "        user_recs['user_id'] = user_id\n",
    "        \n",
    "        # Rank recommendations\n",
    "        user_recs = user_recs.sort_values('sim', ascending=False)\n",
    "        user_recs['rank'] = range(1, len(user_recs) + 1)\n",
    "        \n",
    "        all_recs.append(user_recs)\n",
    "    \n",
    "    if all_recs:\n",
    "        recs = pd.concat(all_recs, ignore_index=True)\n",
    "        recs = recs.rename(columns={'neighbor_id': 'rec_item_id'})\n",
    "        \n",
    "        print(\"\\n8. Evaluating recommendations...\")\n",
    "        # Join recommendations with validation data\n",
    "        joined = pd.merge(\n",
    "            recs, \n",
    "            val, \n",
    "            on='user_id', \n",
    "            how='left'\n",
    "        )\n",
    "        \n",
    "        # Check if recommendations match validation items\n",
    "        joined['hit'] = joined['rec_item_id'] == joined['true_item']\n",
    "        \n",
    "        # Calculate Recall@K\n",
    "        total_val_users = val['user_id'].nunique()\n",
    "        print(f\"Total validation users: {total_val_users}\")\n",
    "        \n",
    "        for k in (5, 10, 20, 50):\n",
    "            # Filter to top-K recommendations\n",
    "            top_k_recs = joined[joined['rank'] <= k]\n",
    "            \n",
    "            # Count users with hits\n",
    "            users_with_hits = top_k_recs[top_k_recs['hit']]['user_id'].nunique()\n",
    "            \n",
    "            recall = users_with_hits / total_val_users\n",
    "            print(f\"Recall@{k}: {recall:.4f} ({users_with_hits} users had their validation item in top {k} recommendations)\")\n",
    "    else:\n",
    "        print(\"No recommendations could be generated.\")\n",
    "else:\n",
    "    print(\"Skipping recommendation evaluation (no validation data).\")\n",
    "\n",
    "print(\"\\nItem-to-item collaborative filtering completed!\")\n"
   ]
  },
  {
   "cell_type": "code",
   "execution_count": null,
   "id": "c358898e-e5e9-4fda-a83f-2244ce5ecf04",
   "metadata": {},
   "outputs": [],
   "source": []
  },
  {
   "cell_type": "code",
   "execution_count": null,
   "id": "18fb5e76-b3aa-4761-b329-0791fc243708",
   "metadata": {},
   "outputs": [],
   "source": []
  },
  {
   "cell_type": "code",
   "execution_count": null,
   "id": "6bbf9707-53a7-4969-8e77-ce8035fbb8d7",
   "metadata": {},
   "outputs": [],
   "source": []
  },
  {
   "cell_type": "markdown",
   "id": "1c9bac9f-ca7f-470a-9be0-6f561a946a0f",
   "metadata": {},
   "source": [
    "## Data Loading and Preparation\n",
    "\n",
    "We'll load the training and validation data, keeping only the essential columns for collaborative filtering."
   ]
  },
  {
   "cell_type": "code",
   "execution_count": null,
   "id": "b6935580-3c63-4af7-8713-68916a1bd022",
   "metadata": {},
   "outputs": [],
   "source": [
    "# ─── 3) Load train clicks DataFrame ─────────────────────────────────────────────\n",
    "clicks = spark.read.parquet(TRAIN_FP)\n",
    "\n",
    "# Keep only the fields we need for CF and deduplicate\n",
    "interactions = (\n",
    "    clicks\n",
    "    .select(\"user_id\", F.col(\"click_article_id\").alias(\"item_id\"))\n",
    "    .distinct()  # one interaction per user‐item\n",
    ")\n",
    "\n",
    "# Show a sample of the interactions\n",
    "print(\"Sample of interactions:\")\n",
    "interactions.show(5)\n",
    "\n",
    "# Count unique users and items\n",
    "num_users = interactions.select(\"user_id\").distinct().count()\n",
    "num_items = interactions.select(\"item_id\").distinct().count()\n",
    "num_interactions = interactions.count()\n",
    "\n",
    "print(f\"Dataset statistics:\")\n",
    "print(f\"  Users: {num_users}\")\n",
    "print(f\"  Items: {num_items}\")\n",
    "print(f\"  Interactions: {num_interactions}\")\n",
    "print(f\"  Density: {num_interactions / (num_users * num_items):.6f}\")"
   ]
  },
  {
   "cell_type": "markdown",
   "id": "85fef133-ded5-4c62-b440-568f9bb57f44",
   "metadata": {},
   "source": [
    "## Load Validation Data\n",
    "\n",
    "We'll load the validation data to use for evaluation later."
   ]
  },
  {
   "cell_type": "code",
   "execution_count": null,
   "id": "b170c924-fbfc-4b74-9d09-b149ee30f5ec",
   "metadata": {},
   "outputs": [],
   "source": [
    "# Load validation data\n",
    "val_clicks = spark.read.parquet(VAL_FP)\n",
    "val = (\n",
    "    val_clicks\n",
    "    .select(\"user_id\", F.col(\"click_article_id\").alias(\"true_item\"))\n",
    "    .distinct()\n",
    ")\n",
    "\n",
    "print(\"Sample of validation data:\")\n",
    "val.show(5)\n",
    "\n",
    "# Count validation statistics\n",
    "val_users = val.select(\"user_id\").distinct().count()\n",
    "print(f\"Validation users: {val_users}\")"
   ]
  },
  {
   "cell_type": "markdown",
   "id": "1971ad2d-7a13-48af-b3b2-9062d9a2d6b7",
   "metadata": {},
   "source": [
    "## Building Item Similarity Matrix\n",
    "\n",
    "The core of item-to-item collaborative filtering is building a similarity matrix between items based on user interaction patterns."
   ]
  },
  {
   "cell_type": "code",
   "execution_count": null,
   "id": "c6833e41-2259-43ce-8c54-10388a9656db",
   "metadata": {},
   "outputs": [],
   "source": [
    "# ─── 4) Compute total clicks per item for normalization ─────────────────────────\n",
    "item_counts = (\n",
    "    interactions\n",
    "    .groupBy(\"item_id\")\n",
    "    .agg(F.count(\"*\").alias(\"n_i\"))\n",
    ")\n",
    "\n",
    "print(\"Sample of item counts:\")\n",
    "item_counts.show(5)\n",
    "\n",
    "# Distribution of item popularity\n",
    "item_counts.describe().show()"
   ]
  },
  {
   "cell_type": "code",
   "execution_count": null,
   "id": "aeadf9a4-55b1-4a61-a589-6fb2e7e1f792",
   "metadata": {},
   "outputs": [],
   "source": [
    "# ─── 5) Generate co‐click counts via self‐join on user_id ────────────────────────\n",
    "print(\"Computing co-occurrence matrix (this may take a while)...\")\n",
    "pairs = (\n",
    "    interactions.alias(\"a\")\n",
    "    .join(interactions.alias(\"b\"), on=\"user_id\")\n",
    "    .where(F.col(\"a.item_id\") < F.col(\"b.item_id\"))  # Avoid duplicates and self-pairs\n",
    "    .groupBy(\"a.item_id\", \"b.item_id\")\n",
    "    .agg(F.count(\"*\").alias(\"co_count\"))\n",
    ")\n",
    "\n",
    "# Show a sample of the co-occurrence matrix\n",
    "print(\"Sample of co-occurrence matrix:\")\n",
    "pairs.show(5)"
   ]
  },
  {
   "cell_type": "code",
   "execution_count": null,
   "id": "afd3a7ff-1dd2-4153-8df0-0a17640507e2",
   "metadata": {},
   "outputs": [],
   "source": [
    "# ─── 6) Join item counts to compute cosine similarity ───────────────────────────\n",
    "print(\"Computing similarity scores...\")\n",
    "pairs = (\n",
    "    pairs\n",
    "    # join on 'a' counts\n",
    "    .join(\n",
    "        item_counts.withColumnRenamed(\"item_id\", \"i\").withColumnRenamed(\"n_i\", \"n_i\"),\n",
    "        pairs[\"a.item_id\"] == F.col(\"i\")\n",
    "    )\n",
    "    .drop(\"i\")\n",
    "    # join on 'b' counts\n",
    "    .join(\n",
    "        item_counts.withColumnRenamed(\"item_id\", \"j\").withColumnRenamed(\"n_i\", \"n_j\"),\n",
    "        pairs[\"b.item_id\"] == F.col(\"j\")\n",
    "    )\n",
    "    .drop(\"j\")\n",
    "    # cosine similarity = co_count / sqrt(n_i * n_j)\n",
    "    .withColumn(\"sim\", F.col(\"co_count\") / F.sqrt(F.col(\"n_i\") * F.col(\"n_j\")))\n",
    ")\n",
    "\n",
    "# Show a sample with similarity scores\n",
    "print(\"Sample with similarity scores:\")\n",
    "pairs.show(5)"
   ]
  },
  {
   "cell_type": "code",
   "execution_count": null,
   "id": "863cd1c8-3bba-4e67-9bfc-033b0ea7b2d7",
   "metadata": {},
   "outputs": [],
   "source": [
    "# ─── 7) For each item, keep top‐TOP_K_NEIGH neighbors ────────────────────────────\n",
    "print(f\"Selecting top {TOP_K_NEIGH} neighbors per item...\")\n",
    "window_spec = Window.partitionBy(\"a.item_id\").orderBy(F.col(\"sim\").desc())\n",
    "\n",
    "item_neighbors = (\n",
    "    pairs\n",
    "    .withColumn(\"rank\", F.row_number().over(window_spec))\n",
    "    .filter(F.col(\"rank\") <= TOP_K_NEIGH)\n",
    "    .select(\n",
    "        F.col(\"a.item_id\").alias(\"item_id\"),\n",
    "        F.col(\"b.item_id\").alias(\"neighbor_id\"),\n",
    "        \"sim\"\n",
    "    )\n",
    ")\n",
    "\n",
    "# Show a sample of the neighbor table\n",
    "print(\"Sample of item neighbors:\")\n",
    "item_neighbors.show(10)\n",
    "\n",
    "# Count how many items have neighbors\n",
    "items_with_neighbors = item_neighbors.select(\"item_id\").distinct().count()\n",
    "print(f\"Items with at least one neighbor: {items_with_neighbors} out of {num_items}\")"
   ]
  },
  {
   "cell_type": "code",
   "execution_count": null,
   "id": "d2d930e4-ab88-47a5-a539-8b203ae0f666",
   "metadata": {},
   "outputs": [],
   "source": [
    "# ─── 8) Persist the neighbor table ──────────────────────────────────────────────\n",
    "print(f\"Saving item neighbors to {NEIGHBORS_FP}\")\n",
    "item_neighbors.write.mode(\"overwrite\").parquet(NEIGHBORS_FP)"
   ]
  },
  {
   "cell_type": "markdown",
   "id": "ffd2ba86-1091-4649-8e70-61f886c9c2ca",
   "metadata": {},
   "source": [
    "## Generating Recommendations\n",
    "\n",
    "Now we'll use the item similarity matrix to generate recommendations for users in the validation set."
   ]
  },
  {
   "cell_type": "code",
   "execution_count": null,
   "id": "d2d930e4-ab88-47a5-a539-8b203ae0f667",
   "metadata": {},
   "outputs": [],
   "source": [
    "# Get user history from training data\n",
    "user_history = interactions\n",
    "\n",
    "# Generate recommendations by joining user history with item neighbors\n",
    "print(\"Generating recommendations...\")\n",
    "recs = (\n",
    "    user_history\n",
    "    .join(item_neighbors, user_history.item_id == item_neighbors.item_id)\n",
    "    .select(\n",
    "        user_history.user_id,\n",
    "        item_neighbors.neighbor_id.alias(\"rec_item_id\"),\n",
    "        item_neighbors.sim\n",
    "    )\n",
    "    # Remove items the user has already interacted with\n",
    "    .join(\n",
    "        user_history.select(\n",
    "            \"user_id\", \n",
    "            F.col(\"item_id\").alias(\"rec_item_id\")\n",
    "        ),\n",
    "        on=[\"user_id\", \"rec_item_id\"],\n",
    "        how=\"left_anti\"\n",
    "    )\n",
    "    # Aggregate to get the best recommendations per user\n",
    "    .groupBy(\"user_id\", \"rec_item_id\")\n",
    "    .agg(F.sum(\"sim\").alias(\"score\"))\n",
    "    # Rank recommendations\n",
    "    .withColumn(\"rank\", F.row_number().over(\n",
    "        Window.partitionBy(\"user_id\").orderBy(F.col(\"score\").desc())\n",
    "    ))\n",
    ")\n",
    "\n",
    "# Show sample recommendations\n",
    "print(\"Sample recommendations:\")\n",
    "recs.filter(F.col(\"rank\") <= 5).show(10)"
   ]
  },
  {
   "cell_type": "markdown",
   "id": "ffd2ba86-1091-4649-8e70-61f886c9c2cb",
   "metadata": {},
   "source": [
    "## Evaluating Recommendations\n",
    "\n",
    "Finally, we'll evaluate our recommendations against the validation set."
   ]
  },
  {
   "cell_type": "code",
   "execution_count": null,
   "id": "d2d930e4-ab88-47a5-a539-8b203ae0f668",
   "metadata": {},
   "outputs": [],
   "source": [
    "# Join recommendations with validation data\n",
    "print(\"Evaluating recommendations...\")\n",
    "joined = (\n",
    "    recs\n",
    "    .join(\n",
    "        val,\n",
    "        (recs.user_id == val.user_id) & (recs.rec_item_id == val.true_item),\n",
    "        \"left\"\n",
    "    )\n",
    ")\n",
    "\n",
    "# Calculate Recall@K\n",
    "total_val_users = val.select(\"user_id\").distinct().count()\n",
    "print(f\"Total validation users: {total_val_users}\")\n",
    "\n",
    "for K in (5, 10, 20, 50):\n",
    "    hits = joined.filter(\n",
    "        (F.col(\"rank\") <= K) & (F.col(\"true_item\").isNotNull())\n",
    "    ).select(\"user_id\").distinct().count()\n",
    "    \n",
    "    recall = hits / total_val_users\n",
    "    print(f\"Recall@{K}: {recall:.4f} ({hits} users had their validation item in top {K} recommendations)\")"
   ]
  },
  {
   "cell_type": "code",
   "execution_count": null,
   "id": "d2d930e4-ab88-47a5-a539-8b203ae0f669",
   "metadata": {},
   "outputs": [],
   "source": [
    "# ─── 9) Stop Spark ──────────────────────────────────────────────────────────────\n",
    "spark.stop()\n",
    "print(\"Spark session stopped.\")"
   ]
  }
 ],
 "metadata": {
  "kernelspec": {
   "display_name": "Python (p9-recsys)",
   "language": "python",
   "name": "p9-recsys"
  },
  "language_info": {
   "codemirror_mode": {
    "name": "ipython",
    "version": 3
   },
   "file_extension": ".py",
   "mimetype": "text/x-python",
   "name": "python",
   "nbconvert_exporter": "python",
   "pygments_lexer": "ipython3",
   "version": "3.8.20"
  }
 },
 "nbformat": 4,
 "nbformat_minor": 5
}
