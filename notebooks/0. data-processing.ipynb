{
 "cells": [
  {
   "cell_type": "markdown",
   "metadata": {
    "nteract": {
     "transient": {
      "deleting": false
     }
    }
   },
   "source": [
    "# 1. Get dataset from the Kaggle"
   ]
  },
  {
   "cell_type": "code",
   "execution_count": 13,
   "metadata": {
    "gather": {
     "logged": 1746016529724
    }
   },
   "outputs": [
    {
     "name": "stdout",
     "output_type": "stream",
     "text": [
      "curl: (6) Could not resolve host: s3-eu-west-1.amazonaws.com\n"
     ]
    }
   ],
   "source": [
    "# !curl \"https://s3-eu-west-1.amazonaws.com/static.oc-static.com/prod/courses/files/AI+Engineer/Project+9+-+Réalisez+une+application+mobile+de+recommandation+de+contenu/news-portal-user-interactions-by-globocom.zip\""
   ]
  },
  {
   "cell_type": "code",
   "execution_count": 3,
   "metadata": {
    "gather": {
     "logged": 1745269495026
    }
   },
   "outputs": [
    {
     "name": "stdout",
     "output_type": "stream",
     "text": [
      "/mnt/batch/tasks/shared/LS_root/mounts/clusters/ocp8-cpu/code/Users/george.gvishiani/ocp9/notebooks\n"
     ]
    }
   ],
   "source": [
    "!pwd"
   ]
  },
  {
   "cell_type": "markdown",
   "metadata": {
    "nteract": {
     "transient": {
      "deleting": false
     }
    }
   },
   "source": [
    "# 2. Unzip all files "
   ]
  },
  {
   "cell_type": "code",
   "execution_count": 1,
   "metadata": {
    "gather": {
     "logged": 1745759756110
    }
   },
   "outputs": [],
   "source": [
    "# !unzip \"news-portal-user-interactions-by-globocom.zip\""
   ]
  },
  {
   "cell_type": "code",
   "execution_count": 5,
   "metadata": {},
   "outputs": [
    {
     "name": "stdout",
     "output_type": "stream",
     "text": [
      "data.ipynb\n"
     ]
    }
   ],
   "source": [
    "!ls"
   ]
  },
  {
   "cell_type": "code",
   "execution_count": 16,
   "metadata": {
    "gather": {
     "logged": 1745707335587
    }
   },
   "outputs": [],
   "source": [
    "# !unzip \"../datasets/clicks.zip\" -d \"../datasets/clicks/\""
   ]
  },
  {
   "cell_type": "code",
   "execution_count": 7,
   "metadata": {
    "gather": {
     "logged": 1745707339467
    }
   },
   "outputs": [],
   "source": [
    "import pandas as pd"
   ]
  },
  {
   "cell_type": "code",
   "execution_count": 18,
   "metadata": {
    "gather": {
     "logged": 1745780455853
    }
   },
   "outputs": [],
   "source": [
    "# clicks = pd.read_csv(\"clicks.csv\")\n",
    "clicks_sample = pd.read_csv(\"../datasets/clicks_sample.csv\")\n",
    "articles_metadata = pd.read_csv(\"../datasets/articles_metadata.csv\")"
   ]
  },
  {
   "cell_type": "markdown",
   "metadata": {
    "nteract": {
     "transient": {
      "deleting": false
     }
    }
   },
   "source": [
    "## 2.1 Dataset: clicks_sample.csv"
   ]
  },
  {
   "cell_type": "code",
   "execution_count": 9,
   "metadata": {
    "gather": {
     "logged": 1745707370412
    }
   },
   "outputs": [
    {
     "data": {
      "text/plain": [
       "(1883, 12)"
      ]
     },
     "execution_count": 9,
     "metadata": {},
     "output_type": "execute_result"
    }
   ],
   "source": [
    "clicks_sample.shape"
   ]
  },
  {
   "cell_type": "code",
   "execution_count": 10,
   "metadata": {
    "gather": {
     "logged": 1745707371616
    }
   },
   "outputs": [
    {
     "name": "stdout",
     "output_type": "stream",
     "text": [
      "<class 'pandas.core.frame.DataFrame'>\n",
      "RangeIndex: 1883 entries, 0 to 1882\n",
      "Data columns (total 12 columns):\n",
      " #   Column               Non-Null Count  Dtype\n",
      "---  ------               --------------  -----\n",
      " 0   user_id              1883 non-null   int64\n",
      " 1   session_id           1883 non-null   int64\n",
      " 2   session_start        1883 non-null   int64\n",
      " 3   session_size         1883 non-null   int64\n",
      " 4   click_article_id     1883 non-null   int64\n",
      " 5   click_timestamp      1883 non-null   int64\n",
      " 6   click_environment    1883 non-null   int64\n",
      " 7   click_deviceGroup    1883 non-null   int64\n",
      " 8   click_os             1883 non-null   int64\n",
      " 9   click_country        1883 non-null   int64\n",
      " 10  click_region         1883 non-null   int64\n",
      " 11  click_referrer_type  1883 non-null   int64\n",
      "dtypes: int64(12)\n",
      "memory usage: 176.7 KB\n"
     ]
    }
   ],
   "source": [
    "clicks_sample.info()"
   ]
  },
  {
   "cell_type": "code",
   "execution_count": 11,
   "metadata": {
    "gather": {
     "logged": 1745707375475
    }
   },
   "outputs": [
    {
     "data": {
      "text/html": [
       "<div>\n",
       "<style scoped>\n",
       "    .dataframe tbody tr th:only-of-type {\n",
       "        vertical-align: middle;\n",
       "    }\n",
       "\n",
       "    .dataframe tbody tr th {\n",
       "        vertical-align: top;\n",
       "    }\n",
       "\n",
       "    .dataframe thead th {\n",
       "        text-align: right;\n",
       "    }\n",
       "</style>\n",
       "<table border=\"1\" class=\"dataframe\">\n",
       "  <thead>\n",
       "    <tr style=\"text-align: right;\">\n",
       "      <th></th>\n",
       "      <th>user_id</th>\n",
       "      <th>session_id</th>\n",
       "      <th>session_start</th>\n",
       "      <th>session_size</th>\n",
       "      <th>click_article_id</th>\n",
       "      <th>click_timestamp</th>\n",
       "      <th>click_environment</th>\n",
       "      <th>click_deviceGroup</th>\n",
       "      <th>click_os</th>\n",
       "      <th>click_country</th>\n",
       "      <th>click_region</th>\n",
       "      <th>click_referrer_type</th>\n",
       "    </tr>\n",
       "  </thead>\n",
       "  <tbody>\n",
       "    <tr>\n",
       "      <th>0</th>\n",
       "      <td>0</td>\n",
       "      <td>1506825423271737</td>\n",
       "      <td>1506825423000</td>\n",
       "      <td>2</td>\n",
       "      <td>157541</td>\n",
       "      <td>1506826828020</td>\n",
       "      <td>4</td>\n",
       "      <td>3</td>\n",
       "      <td>20</td>\n",
       "      <td>1</td>\n",
       "      <td>20</td>\n",
       "      <td>2</td>\n",
       "    </tr>\n",
       "    <tr>\n",
       "      <th>1</th>\n",
       "      <td>0</td>\n",
       "      <td>1506825423271737</td>\n",
       "      <td>1506825423000</td>\n",
       "      <td>2</td>\n",
       "      <td>68866</td>\n",
       "      <td>1506826858020</td>\n",
       "      <td>4</td>\n",
       "      <td>3</td>\n",
       "      <td>20</td>\n",
       "      <td>1</td>\n",
       "      <td>20</td>\n",
       "      <td>2</td>\n",
       "    </tr>\n",
       "    <tr>\n",
       "      <th>2</th>\n",
       "      <td>1</td>\n",
       "      <td>1506825426267738</td>\n",
       "      <td>1506825426000</td>\n",
       "      <td>2</td>\n",
       "      <td>235840</td>\n",
       "      <td>1506827017951</td>\n",
       "      <td>4</td>\n",
       "      <td>1</td>\n",
       "      <td>17</td>\n",
       "      <td>1</td>\n",
       "      <td>16</td>\n",
       "      <td>2</td>\n",
       "    </tr>\n",
       "    <tr>\n",
       "      <th>3</th>\n",
       "      <td>1</td>\n",
       "      <td>1506825426267738</td>\n",
       "      <td>1506825426000</td>\n",
       "      <td>2</td>\n",
       "      <td>96663</td>\n",
       "      <td>1506827047951</td>\n",
       "      <td>4</td>\n",
       "      <td>1</td>\n",
       "      <td>17</td>\n",
       "      <td>1</td>\n",
       "      <td>16</td>\n",
       "      <td>2</td>\n",
       "    </tr>\n",
       "    <tr>\n",
       "      <th>4</th>\n",
       "      <td>2</td>\n",
       "      <td>1506825435299739</td>\n",
       "      <td>1506825435000</td>\n",
       "      <td>2</td>\n",
       "      <td>119592</td>\n",
       "      <td>1506827090575</td>\n",
       "      <td>4</td>\n",
       "      <td>1</td>\n",
       "      <td>17</td>\n",
       "      <td>1</td>\n",
       "      <td>24</td>\n",
       "      <td>2</td>\n",
       "    </tr>\n",
       "  </tbody>\n",
       "</table>\n",
       "</div>"
      ],
      "text/plain": [
       "   user_id        session_id  session_start  session_size  click_article_id  \\\n",
       "0        0  1506825423271737  1506825423000             2            157541   \n",
       "1        0  1506825423271737  1506825423000             2             68866   \n",
       "2        1  1506825426267738  1506825426000             2            235840   \n",
       "3        1  1506825426267738  1506825426000             2             96663   \n",
       "4        2  1506825435299739  1506825435000             2            119592   \n",
       "\n",
       "   click_timestamp  click_environment  click_deviceGroup  click_os  \\\n",
       "0    1506826828020                  4                  3        20   \n",
       "1    1506826858020                  4                  3        20   \n",
       "2    1506827017951                  4                  1        17   \n",
       "3    1506827047951                  4                  1        17   \n",
       "4    1506827090575                  4                  1        17   \n",
       "\n",
       "   click_country  click_region  click_referrer_type  \n",
       "0              1            20                    2  \n",
       "1              1            20                    2  \n",
       "2              1            16                    2  \n",
       "3              1            16                    2  \n",
       "4              1            24                    2  "
      ]
     },
     "execution_count": 11,
     "metadata": {},
     "output_type": "execute_result"
    }
   ],
   "source": [
    "clicks_sample.head()"
   ]
  },
  {
   "cell_type": "code",
   "execution_count": 19,
   "metadata": {
    "gather": {
     "logged": 1745708235841
    }
   },
   "outputs": [
    {
     "data": {
      "text/plain": [
       "user_id                 707\n",
       "session_id              707\n",
       "session_start           619\n",
       "session_size             11\n",
       "click_article_id        323\n",
       "click_timestamp        1883\n",
       "click_environment         3\n",
       "click_deviceGroup         3\n",
       "click_os                  6\n",
       "click_country             7\n",
       "click_region             26\n",
       "click_referrer_type       6\n",
       "dtype: int64"
      ]
     },
     "execution_count": 19,
     "metadata": {},
     "output_type": "execute_result"
    }
   ],
   "source": [
    "clicks_sample.nunique()"
   ]
  },
  {
   "cell_type": "code",
   "execution_count": 12,
   "metadata": {
    "gather": {
     "logged": 1745707377659
    }
   },
   "outputs": [
    {
     "data": {
      "text/html": [
       "<div>\n",
       "<style scoped>\n",
       "    .dataframe tbody tr th:only-of-type {\n",
       "        vertical-align: middle;\n",
       "    }\n",
       "\n",
       "    .dataframe tbody tr th {\n",
       "        vertical-align: top;\n",
       "    }\n",
       "\n",
       "    .dataframe thead th {\n",
       "        text-align: right;\n",
       "    }\n",
       "</style>\n",
       "<table border=\"1\" class=\"dataframe\">\n",
       "  <thead>\n",
       "    <tr style=\"text-align: right;\">\n",
       "      <th></th>\n",
       "      <th>user_id</th>\n",
       "      <th>session_id</th>\n",
       "      <th>session_start</th>\n",
       "      <th>session_size</th>\n",
       "      <th>click_article_id</th>\n",
       "      <th>click_timestamp</th>\n",
       "      <th>click_environment</th>\n",
       "      <th>click_deviceGroup</th>\n",
       "      <th>click_os</th>\n",
       "      <th>click_country</th>\n",
       "      <th>click_region</th>\n",
       "      <th>click_referrer_type</th>\n",
       "    </tr>\n",
       "  </thead>\n",
       "  <tbody>\n",
       "    <tr>\n",
       "      <th>count</th>\n",
       "      <td>1883.000000</td>\n",
       "      <td>1.883000e+03</td>\n",
       "      <td>1.883000e+03</td>\n",
       "      <td>1883.000000</td>\n",
       "      <td>1883.000000</td>\n",
       "      <td>1.883000e+03</td>\n",
       "      <td>1883.000000</td>\n",
       "      <td>1883.000000</td>\n",
       "      <td>1883.000000</td>\n",
       "      <td>1883.000000</td>\n",
       "      <td>1883.000000</td>\n",
       "      <td>1883.000000</td>\n",
       "    </tr>\n",
       "    <tr>\n",
       "      <th>mean</th>\n",
       "      <td>355.893787</td>\n",
       "      <td>1.506828e+15</td>\n",
       "      <td>1.506828e+12</td>\n",
       "      <td>3.459904</td>\n",
       "      <td>176717.848646</td>\n",
       "      <td>1.506830e+12</td>\n",
       "      <td>3.917153</td>\n",
       "      <td>2.305895</td>\n",
       "      <td>12.113648</td>\n",
       "      <td>1.491768</td>\n",
       "      <td>18.774827</td>\n",
       "      <td>1.764206</td>\n",
       "    </tr>\n",
       "    <tr>\n",
       "      <th>std</th>\n",
       "      <td>206.162865</td>\n",
       "      <td>8.679628e+08</td>\n",
       "      <td>8.679468e+05</td>\n",
       "      <td>3.037467</td>\n",
       "      <td>82324.177259</td>\n",
       "      <td>1.064938e+07</td>\n",
       "      <td>0.410461</td>\n",
       "      <td>1.062301</td>\n",
       "      <td>7.825735</td>\n",
       "      <td>2.007772</td>\n",
       "      <td>7.083400</td>\n",
       "      <td>1.225679</td>\n",
       "    </tr>\n",
       "    <tr>\n",
       "      <th>min</th>\n",
       "      <td>0.000000</td>\n",
       "      <td>1.506825e+15</td>\n",
       "      <td>1.506825e+12</td>\n",
       "      <td>2.000000</td>\n",
       "      <td>2137.000000</td>\n",
       "      <td>1.506827e+12</td>\n",
       "      <td>1.000000</td>\n",
       "      <td>1.000000</td>\n",
       "      <td>2.000000</td>\n",
       "      <td>1.000000</td>\n",
       "      <td>1.000000</td>\n",
       "      <td>1.000000</td>\n",
       "    </tr>\n",
       "    <tr>\n",
       "      <th>25%</th>\n",
       "      <td>181.500000</td>\n",
       "      <td>1.506827e+15</td>\n",
       "      <td>1.506827e+12</td>\n",
       "      <td>2.000000</td>\n",
       "      <td>108854.000000</td>\n",
       "      <td>1.506828e+12</td>\n",
       "      <td>4.000000</td>\n",
       "      <td>1.000000</td>\n",
       "      <td>2.000000</td>\n",
       "      <td>1.000000</td>\n",
       "      <td>13.000000</td>\n",
       "      <td>1.000000</td>\n",
       "    </tr>\n",
       "    <tr>\n",
       "      <th>50%</th>\n",
       "      <td>353.000000</td>\n",
       "      <td>1.506828e+15</td>\n",
       "      <td>1.506828e+12</td>\n",
       "      <td>3.000000</td>\n",
       "      <td>157541.000000</td>\n",
       "      <td>1.506828e+12</td>\n",
       "      <td>4.000000</td>\n",
       "      <td>3.000000</td>\n",
       "      <td>17.000000</td>\n",
       "      <td>1.000000</td>\n",
       "      <td>21.000000</td>\n",
       "      <td>1.000000</td>\n",
       "    </tr>\n",
       "    <tr>\n",
       "      <th>75%</th>\n",
       "      <td>537.000000</td>\n",
       "      <td>1.506828e+15</td>\n",
       "      <td>1.506828e+12</td>\n",
       "      <td>4.000000</td>\n",
       "      <td>236697.500000</td>\n",
       "      <td>1.506829e+12</td>\n",
       "      <td>4.000000</td>\n",
       "      <td>3.000000</td>\n",
       "      <td>19.000000</td>\n",
       "      <td>1.000000</td>\n",
       "      <td>25.000000</td>\n",
       "      <td>2.000000</td>\n",
       "    </tr>\n",
       "    <tr>\n",
       "      <th>max</th>\n",
       "      <td>706.000000</td>\n",
       "      <td>1.506829e+15</td>\n",
       "      <td>1.506829e+12</td>\n",
       "      <td>24.000000</td>\n",
       "      <td>363291.000000</td>\n",
       "      <td>1.506998e+12</td>\n",
       "      <td>4.000000</td>\n",
       "      <td>4.000000</td>\n",
       "      <td>20.000000</td>\n",
       "      <td>11.000000</td>\n",
       "      <td>28.000000</td>\n",
       "      <td>7.000000</td>\n",
       "    </tr>\n",
       "  </tbody>\n",
       "</table>\n",
       "</div>"
      ],
      "text/plain": [
       "           user_id    session_id  session_start  session_size  \\\n",
       "count  1883.000000  1.883000e+03   1.883000e+03   1883.000000   \n",
       "mean    355.893787  1.506828e+15   1.506828e+12      3.459904   \n",
       "std     206.162865  8.679628e+08   8.679468e+05      3.037467   \n",
       "min       0.000000  1.506825e+15   1.506825e+12      2.000000   \n",
       "25%     181.500000  1.506827e+15   1.506827e+12      2.000000   \n",
       "50%     353.000000  1.506828e+15   1.506828e+12      3.000000   \n",
       "75%     537.000000  1.506828e+15   1.506828e+12      4.000000   \n",
       "max     706.000000  1.506829e+15   1.506829e+12     24.000000   \n",
       "\n",
       "       click_article_id  click_timestamp  click_environment  \\\n",
       "count       1883.000000     1.883000e+03        1883.000000   \n",
       "mean      176717.848646     1.506830e+12           3.917153   \n",
       "std        82324.177259     1.064938e+07           0.410461   \n",
       "min         2137.000000     1.506827e+12           1.000000   \n",
       "25%       108854.000000     1.506828e+12           4.000000   \n",
       "50%       157541.000000     1.506828e+12           4.000000   \n",
       "75%       236697.500000     1.506829e+12           4.000000   \n",
       "max       363291.000000     1.506998e+12           4.000000   \n",
       "\n",
       "       click_deviceGroup     click_os  click_country  click_region  \\\n",
       "count        1883.000000  1883.000000    1883.000000   1883.000000   \n",
       "mean            2.305895    12.113648       1.491768     18.774827   \n",
       "std             1.062301     7.825735       2.007772      7.083400   \n",
       "min             1.000000     2.000000       1.000000      1.000000   \n",
       "25%             1.000000     2.000000       1.000000     13.000000   \n",
       "50%             3.000000    17.000000       1.000000     21.000000   \n",
       "75%             3.000000    19.000000       1.000000     25.000000   \n",
       "max             4.000000    20.000000      11.000000     28.000000   \n",
       "\n",
       "       click_referrer_type  \n",
       "count          1883.000000  \n",
       "mean              1.764206  \n",
       "std               1.225679  \n",
       "min               1.000000  \n",
       "25%               1.000000  \n",
       "50%               1.000000  \n",
       "75%               2.000000  \n",
       "max               7.000000  "
      ]
     },
     "execution_count": 12,
     "metadata": {},
     "output_type": "execute_result"
    }
   ],
   "source": [
    "clicks_sample.describe()"
   ]
  },
  {
   "cell_type": "markdown",
   "metadata": {
    "nteract": {
     "transient": {
      "deleting": false
     }
    }
   },
   "source": [
    "## 2.2 Dataset: articles_metadata "
   ]
  },
  {
   "cell_type": "code",
   "execution_count": 19,
   "metadata": {
    "gather": {
     "logged": 1745780463321
    }
   },
   "outputs": [
    {
     "data": {
      "text/plain": [
       "(364047, 5)"
      ]
     },
     "execution_count": 19,
     "metadata": {},
     "output_type": "execute_result"
    }
   ],
   "source": [
    "articles_metadata.shape"
   ]
  },
  {
   "cell_type": "code",
   "execution_count": 15,
   "metadata": {
    "gather": {
     "logged": 1745269692022
    }
   },
   "outputs": [
    {
     "name": "stdout",
     "output_type": "stream",
     "text": [
      "<class 'pandas.core.frame.DataFrame'>\n",
      "RangeIndex: 364047 entries, 0 to 364046\n",
      "Data columns (total 5 columns):\n",
      " #   Column         Non-Null Count   Dtype\n",
      "---  ------         --------------   -----\n",
      " 0   article_id     364047 non-null  int64\n",
      " 1   category_id    364047 non-null  int64\n",
      " 2   created_at_ts  364047 non-null  int64\n",
      " 3   publisher_id   364047 non-null  int64\n",
      " 4   words_count    364047 non-null  int64\n",
      "dtypes: int64(5)\n",
      "memory usage: 13.9 MB\n"
     ]
    }
   ],
   "source": [
    "articles_metadata.info()"
   ]
  },
  {
   "cell_type": "code",
   "execution_count": 16,
   "metadata": {
    "gather": {
     "logged": 1745269693410
    }
   },
   "outputs": [
    {
     "data": {
      "text/html": [
       "<div>\n",
       "<style scoped>\n",
       "    .dataframe tbody tr th:only-of-type {\n",
       "        vertical-align: middle;\n",
       "    }\n",
       "\n",
       "    .dataframe tbody tr th {\n",
       "        vertical-align: top;\n",
       "    }\n",
       "\n",
       "    .dataframe thead th {\n",
       "        text-align: right;\n",
       "    }\n",
       "</style>\n",
       "<table border=\"1\" class=\"dataframe\">\n",
       "  <thead>\n",
       "    <tr style=\"text-align: right;\">\n",
       "      <th></th>\n",
       "      <th>article_id</th>\n",
       "      <th>category_id</th>\n",
       "      <th>created_at_ts</th>\n",
       "      <th>publisher_id</th>\n",
       "      <th>words_count</th>\n",
       "    </tr>\n",
       "  </thead>\n",
       "  <tbody>\n",
       "    <tr>\n",
       "      <th>0</th>\n",
       "      <td>0</td>\n",
       "      <td>0</td>\n",
       "      <td>1513144419000</td>\n",
       "      <td>0</td>\n",
       "      <td>168</td>\n",
       "    </tr>\n",
       "    <tr>\n",
       "      <th>1</th>\n",
       "      <td>1</td>\n",
       "      <td>1</td>\n",
       "      <td>1405341936000</td>\n",
       "      <td>0</td>\n",
       "      <td>189</td>\n",
       "    </tr>\n",
       "    <tr>\n",
       "      <th>2</th>\n",
       "      <td>2</td>\n",
       "      <td>1</td>\n",
       "      <td>1408667706000</td>\n",
       "      <td>0</td>\n",
       "      <td>250</td>\n",
       "    </tr>\n",
       "    <tr>\n",
       "      <th>3</th>\n",
       "      <td>3</td>\n",
       "      <td>1</td>\n",
       "      <td>1408468313000</td>\n",
       "      <td>0</td>\n",
       "      <td>230</td>\n",
       "    </tr>\n",
       "    <tr>\n",
       "      <th>4</th>\n",
       "      <td>4</td>\n",
       "      <td>1</td>\n",
       "      <td>1407071171000</td>\n",
       "      <td>0</td>\n",
       "      <td>162</td>\n",
       "    </tr>\n",
       "  </tbody>\n",
       "</table>\n",
       "</div>"
      ],
      "text/plain": [
       "   article_id  category_id  created_at_ts  publisher_id  words_count\n",
       "0           0            0  1513144419000             0          168\n",
       "1           1            1  1405341936000             0          189\n",
       "2           2            1  1408667706000             0          250\n",
       "3           3            1  1408468313000             0          230\n",
       "4           4            1  1407071171000             0          162"
      ]
     },
     "execution_count": 16,
     "metadata": {},
     "output_type": "execute_result"
    }
   ],
   "source": [
    "articles_metadata.head()"
   ]
  },
  {
   "cell_type": "code",
   "execution_count": 17,
   "metadata": {
    "gather": {
     "logged": 1745269696350
    }
   },
   "outputs": [
    {
     "data": {
      "text/html": [
       "<div>\n",
       "<style scoped>\n",
       "    .dataframe tbody tr th:only-of-type {\n",
       "        vertical-align: middle;\n",
       "    }\n",
       "\n",
       "    .dataframe tbody tr th {\n",
       "        vertical-align: top;\n",
       "    }\n",
       "\n",
       "    .dataframe thead th {\n",
       "        text-align: right;\n",
       "    }\n",
       "</style>\n",
       "<table border=\"1\" class=\"dataframe\">\n",
       "  <thead>\n",
       "    <tr style=\"text-align: right;\">\n",
       "      <th></th>\n",
       "      <th>article_id</th>\n",
       "      <th>category_id</th>\n",
       "      <th>created_at_ts</th>\n",
       "      <th>publisher_id</th>\n",
       "      <th>words_count</th>\n",
       "    </tr>\n",
       "  </thead>\n",
       "  <tbody>\n",
       "    <tr>\n",
       "      <th>count</th>\n",
       "      <td>364047.000000</td>\n",
       "      <td>364047.000000</td>\n",
       "      <td>3.640470e+05</td>\n",
       "      <td>364047.0</td>\n",
       "      <td>364047.000000</td>\n",
       "    </tr>\n",
       "    <tr>\n",
       "      <th>mean</th>\n",
       "      <td>182023.000000</td>\n",
       "      <td>283.108239</td>\n",
       "      <td>1.474070e+12</td>\n",
       "      <td>0.0</td>\n",
       "      <td>190.897727</td>\n",
       "    </tr>\n",
       "    <tr>\n",
       "      <th>std</th>\n",
       "      <td>105091.461061</td>\n",
       "      <td>136.723470</td>\n",
       "      <td>4.293038e+10</td>\n",
       "      <td>0.0</td>\n",
       "      <td>59.502766</td>\n",
       "    </tr>\n",
       "    <tr>\n",
       "      <th>min</th>\n",
       "      <td>0.000000</td>\n",
       "      <td>0.000000</td>\n",
       "      <td>1.159356e+12</td>\n",
       "      <td>0.0</td>\n",
       "      <td>0.000000</td>\n",
       "    </tr>\n",
       "    <tr>\n",
       "      <th>25%</th>\n",
       "      <td>91011.500000</td>\n",
       "      <td>199.000000</td>\n",
       "      <td>1.444925e+12</td>\n",
       "      <td>0.0</td>\n",
       "      <td>159.000000</td>\n",
       "    </tr>\n",
       "    <tr>\n",
       "      <th>50%</th>\n",
       "      <td>182023.000000</td>\n",
       "      <td>301.000000</td>\n",
       "      <td>1.489422e+12</td>\n",
       "      <td>0.0</td>\n",
       "      <td>186.000000</td>\n",
       "    </tr>\n",
       "    <tr>\n",
       "      <th>75%</th>\n",
       "      <td>273034.500000</td>\n",
       "      <td>399.000000</td>\n",
       "      <td>1.509891e+12</td>\n",
       "      <td>0.0</td>\n",
       "      <td>218.000000</td>\n",
       "    </tr>\n",
       "    <tr>\n",
       "      <th>max</th>\n",
       "      <td>364046.000000</td>\n",
       "      <td>460.000000</td>\n",
       "      <td>1.520943e+12</td>\n",
       "      <td>0.0</td>\n",
       "      <td>6690.000000</td>\n",
       "    </tr>\n",
       "  </tbody>\n",
       "</table>\n",
       "</div>"
      ],
      "text/plain": [
       "          article_id    category_id  created_at_ts  publisher_id  \\\n",
       "count  364047.000000  364047.000000   3.640470e+05      364047.0   \n",
       "mean   182023.000000     283.108239   1.474070e+12           0.0   \n",
       "std    105091.461061     136.723470   4.293038e+10           0.0   \n",
       "min         0.000000       0.000000   1.159356e+12           0.0   \n",
       "25%     91011.500000     199.000000   1.444925e+12           0.0   \n",
       "50%    182023.000000     301.000000   1.489422e+12           0.0   \n",
       "75%    273034.500000     399.000000   1.509891e+12           0.0   \n",
       "max    364046.000000     460.000000   1.520943e+12           0.0   \n",
       "\n",
       "         words_count  \n",
       "count  364047.000000  \n",
       "mean      190.897727  \n",
       "std        59.502766  \n",
       "min         0.000000  \n",
       "25%       159.000000  \n",
       "50%       186.000000  \n",
       "75%       218.000000  \n",
       "max      6690.000000  "
      ]
     },
     "execution_count": 17,
     "metadata": {},
     "output_type": "execute_result"
    }
   ],
   "source": [
    "articles_metadata.describe()"
   ]
  },
  {
   "cell_type": "markdown",
   "metadata": {
    "nteract": {
     "transient": {
      "deleting": false
     }
    }
   },
   "source": [
    "## 2.3 Combine several files about clicks per hour from clicks.zip into one file "
   ]
  },
  {
   "cell_type": "code",
   "execution_count": 17,
   "metadata": {
    "gather": {
     "logged": 1745694566380
    }
   },
   "outputs": [],
   "source": [
    "# 1. Imports\n",
    "import os\n",
    "import pandas as pd\n",
    "# from azureml.core import Workspace, Datastore, Dataset\n",
    "import pandas as pd, glob, os"
   ]
  },
  {
   "cell_type": "code",
   "execution_count": 18,
   "metadata": {},
   "outputs": [],
   "source": [
    "# grab a sample of raw values\n",
    "paths = glob.glob(os.path.join(\"../datasets/clicks\", \"*.csv\"))"
   ]
  },
  {
   "cell_type": "code",
   "execution_count": 22,
   "metadata": {},
   "outputs": [],
   "source": [
    "import os\n",
    "import glob\n",
    "import pandas as pd\n",
    "\n",
    "# 1. Define the smallest-possible dtypes for each integer column\n",
    "clicks_dtypes = {\n",
    "    \"user_id\":             \"uint16\",\n",
    "    \"session_id\":          \"uint16\",\n",
    "    \"session_size\":        \"uint8\",\n",
    "    \"click_article_id\":    \"uint16\",\n",
    "    \"click_environment\":   \"uint8\",\n",
    "    \"click_deviceGroup\":   \"uint8\",\n",
    "    \"click_os\":            \"uint8\",\n",
    "    \"click_country\":       \"uint8\",\n",
    "    \"click_region\":        \"uint8\",\n",
    "    \"click_referrer_type\": \"uint8\"\n",
    "}"
   ]
  },
  {
   "cell_type": "code",
   "execution_count": 23,
   "metadata": {},
   "outputs": [
    {
     "name": "stdout",
     "output_type": "stream",
     "text": [
      "Found 385 files under '../datasets/clicks/'\n"
     ]
    }
   ],
   "source": [
    "# 2. Find all CSV files in the clicks directory\n",
    "clicks_dir = \"../datasets/clicks\"\n",
    "csv_files = glob.glob(os.path.join(clicks_dir, \"*.csv\"))\n",
    "print(f\"Found {len(csv_files)} files under '{clicks_dir}/'\")"
   ]
  },
  {
   "cell_type": "code",
   "execution_count": 24,
   "metadata": {
    "editable": true,
    "slideshow": {
     "slide_type": ""
    },
    "tags": []
   },
   "outputs": [],
   "source": [
    "# 3. Read each CSV with enforced dtypes, convert timestamps, collect into a list\n",
    "dfs = []\n",
    "for fp in csv_files:\n",
    "    df = pd.read_csv(fp, dtype=clicks_dtypes)\n",
    "    # Convert epoch-milliseconds → datetime64[ns]\n",
    "    df[\"session_start\"]   = pd.to_datetime(df[\"session_start\"],   unit=\"ms\")\n",
    "    df[\"click_timestamp\"] = pd.to_datetime(df[\"click_timestamp\"], unit=\"ms\")\n",
    "    dfs.append(df)"
   ]
  },
  {
   "cell_type": "code",
   "execution_count": 25,
   "metadata": {
    "editable": true,
    "slideshow": {
     "slide_type": ""
    },
    "tags": []
   },
   "outputs": [
    {
     "data": {
      "text/plain": [
       "list"
      ]
     },
     "execution_count": 25,
     "metadata": {},
     "output_type": "execute_result"
    }
   ],
   "source": [
    "type(dfs)"
   ]
  },
  {
   "cell_type": "code",
   "execution_count": 27,
   "metadata": {
    "editable": true,
    "slideshow": {
     "slide_type": ""
    },
    "tags": []
   },
   "outputs": [
    {
     "data": {
      "text/plain": [
       "(2283, 12)"
      ]
     },
     "execution_count": 27,
     "metadata": {},
     "output_type": "execute_result"
    }
   ],
   "source": [
    "dfs[0].shape"
   ]
  },
  {
   "cell_type": "code",
   "execution_count": 29,
   "metadata": {
    "editable": true,
    "slideshow": {
     "slide_type": ""
    },
    "tags": []
   },
   "outputs": [
    {
     "data": {
      "text/html": [
       "<div>\n",
       "<style scoped>\n",
       "    .dataframe tbody tr th:only-of-type {\n",
       "        vertical-align: middle;\n",
       "    }\n",
       "\n",
       "    .dataframe tbody tr th {\n",
       "        vertical-align: top;\n",
       "    }\n",
       "\n",
       "    .dataframe thead th {\n",
       "        text-align: right;\n",
       "    }\n",
       "</style>\n",
       "<table border=\"1\" class=\"dataframe\">\n",
       "  <thead>\n",
       "    <tr style=\"text-align: right;\">\n",
       "      <th></th>\n",
       "      <th>user_id</th>\n",
       "      <th>session_id</th>\n",
       "      <th>session_start</th>\n",
       "      <th>session_size</th>\n",
       "      <th>click_article_id</th>\n",
       "      <th>click_timestamp</th>\n",
       "      <th>click_environment</th>\n",
       "      <th>click_deviceGroup</th>\n",
       "      <th>click_os</th>\n",
       "      <th>click_country</th>\n",
       "      <th>click_region</th>\n",
       "      <th>click_referrer_type</th>\n",
       "    </tr>\n",
       "  </thead>\n",
       "  <tbody>\n",
       "    <tr>\n",
       "      <th>0</th>\n",
       "      <td>28327</td>\n",
       "      <td>26291</td>\n",
       "      <td>2017-10-13 03:36:32</td>\n",
       "      <td>2</td>\n",
       "      <td>30674</td>\n",
       "      <td>2017-10-13 03:37:12.925</td>\n",
       "      <td>4</td>\n",
       "      <td>3</td>\n",
       "      <td>2</td>\n",
       "      <td>1</td>\n",
       "      <td>21</td>\n",
       "      <td>2</td>\n",
       "    </tr>\n",
       "    <tr>\n",
       "      <th>1</th>\n",
       "      <td>28327</td>\n",
       "      <td>26291</td>\n",
       "      <td>2017-10-13 03:36:32</td>\n",
       "      <td>2</td>\n",
       "      <td>27022</td>\n",
       "      <td>2017-10-13 03:37:42.925</td>\n",
       "      <td>4</td>\n",
       "      <td>3</td>\n",
       "      <td>2</td>\n",
       "      <td>1</td>\n",
       "      <td>21</td>\n",
       "      <td>2</td>\n",
       "    </tr>\n",
       "    <tr>\n",
       "      <th>2</th>\n",
       "      <td>31892</td>\n",
       "      <td>19636</td>\n",
       "      <td>2017-10-13 03:36:35</td>\n",
       "      <td>2</td>\n",
       "      <td>20691</td>\n",
       "      <td>2017-10-13 03:36:59.095</td>\n",
       "      <td>4</td>\n",
       "      <td>3</td>\n",
       "      <td>20</td>\n",
       "      <td>1</td>\n",
       "      <td>9</td>\n",
       "      <td>2</td>\n",
       "    </tr>\n",
       "    <tr>\n",
       "      <th>3</th>\n",
       "      <td>31892</td>\n",
       "      <td>19636</td>\n",
       "      <td>2017-10-13 03:36:35</td>\n",
       "      <td>2</td>\n",
       "      <td>30674</td>\n",
       "      <td>2017-10-13 03:37:29.095</td>\n",
       "      <td>4</td>\n",
       "      <td>3</td>\n",
       "      <td>20</td>\n",
       "      <td>1</td>\n",
       "      <td>9</td>\n",
       "      <td>2</td>\n",
       "    </tr>\n",
       "    <tr>\n",
       "      <th>4</th>\n",
       "      <td>11600</td>\n",
       "      <td>43061</td>\n",
       "      <td>2017-10-13 03:36:36</td>\n",
       "      <td>2</td>\n",
       "      <td>8565</td>\n",
       "      <td>2017-10-13 03:42:13.178</td>\n",
       "      <td>4</td>\n",
       "      <td>3</td>\n",
       "      <td>2</td>\n",
       "      <td>1</td>\n",
       "      <td>25</td>\n",
       "      <td>2</td>\n",
       "    </tr>\n",
       "  </tbody>\n",
       "</table>\n",
       "</div>"
      ],
      "text/plain": [
       "   user_id  session_id       session_start  session_size  click_article_id  \\\n",
       "0    28327       26291 2017-10-13 03:36:32             2             30674   \n",
       "1    28327       26291 2017-10-13 03:36:32             2             27022   \n",
       "2    31892       19636 2017-10-13 03:36:35             2             20691   \n",
       "3    31892       19636 2017-10-13 03:36:35             2             30674   \n",
       "4    11600       43061 2017-10-13 03:36:36             2              8565   \n",
       "\n",
       "          click_timestamp  click_environment  click_deviceGroup  click_os  \\\n",
       "0 2017-10-13 03:37:12.925                  4                  3         2   \n",
       "1 2017-10-13 03:37:42.925                  4                  3         2   \n",
       "2 2017-10-13 03:36:59.095                  4                  3        20   \n",
       "3 2017-10-13 03:37:29.095                  4                  3        20   \n",
       "4 2017-10-13 03:42:13.178                  4                  3         2   \n",
       "\n",
       "   click_country  click_region  click_referrer_type  \n",
       "0              1            21                    2  \n",
       "1              1            21                    2  \n",
       "2              1             9                    2  \n",
       "3              1             9                    2  \n",
       "4              1            25                    2  "
      ]
     },
     "execution_count": 29,
     "metadata": {},
     "output_type": "execute_result"
    }
   ],
   "source": [
    "dfs[0].head()"
   ]
  },
  {
   "cell_type": "code",
   "execution_count": 30,
   "metadata": {
    "editable": true,
    "slideshow": {
     "slide_type": ""
    },
    "tags": []
   },
   "outputs": [],
   "source": [
    "# 4. Concatenate into one DataFrame\n",
    "clicks_df = pd.concat(dfs, ignore_index=True)"
   ]
  },
  {
   "cell_type": "code",
   "execution_count": 31,
   "metadata": {
    "editable": true,
    "slideshow": {
     "slide_type": ""
    },
    "tags": []
   },
   "outputs": [
    {
     "data": {
      "text/html": [
       "<div>\n",
       "<style scoped>\n",
       "    .dataframe tbody tr th:only-of-type {\n",
       "        vertical-align: middle;\n",
       "    }\n",
       "\n",
       "    .dataframe tbody tr th {\n",
       "        vertical-align: top;\n",
       "    }\n",
       "\n",
       "    .dataframe thead th {\n",
       "        text-align: right;\n",
       "    }\n",
       "</style>\n",
       "<table border=\"1\" class=\"dataframe\">\n",
       "  <thead>\n",
       "    <tr style=\"text-align: right;\">\n",
       "      <th></th>\n",
       "      <th>user_id</th>\n",
       "      <th>session_id</th>\n",
       "      <th>session_start</th>\n",
       "      <th>session_size</th>\n",
       "      <th>click_article_id</th>\n",
       "      <th>click_timestamp</th>\n",
       "      <th>click_environment</th>\n",
       "      <th>click_deviceGroup</th>\n",
       "      <th>click_os</th>\n",
       "      <th>click_country</th>\n",
       "      <th>click_region</th>\n",
       "      <th>click_referrer_type</th>\n",
       "    </tr>\n",
       "  </thead>\n",
       "  <tbody>\n",
       "    <tr>\n",
       "      <th>0</th>\n",
       "      <td>28327</td>\n",
       "      <td>26291</td>\n",
       "      <td>2017-10-13 03:36:32</td>\n",
       "      <td>2</td>\n",
       "      <td>30674</td>\n",
       "      <td>2017-10-13 03:37:12.925</td>\n",
       "      <td>4</td>\n",
       "      <td>3</td>\n",
       "      <td>2</td>\n",
       "      <td>1</td>\n",
       "      <td>21</td>\n",
       "      <td>2</td>\n",
       "    </tr>\n",
       "    <tr>\n",
       "      <th>1</th>\n",
       "      <td>28327</td>\n",
       "      <td>26291</td>\n",
       "      <td>2017-10-13 03:36:32</td>\n",
       "      <td>2</td>\n",
       "      <td>27022</td>\n",
       "      <td>2017-10-13 03:37:42.925</td>\n",
       "      <td>4</td>\n",
       "      <td>3</td>\n",
       "      <td>2</td>\n",
       "      <td>1</td>\n",
       "      <td>21</td>\n",
       "      <td>2</td>\n",
       "    </tr>\n",
       "    <tr>\n",
       "      <th>2</th>\n",
       "      <td>31892</td>\n",
       "      <td>19636</td>\n",
       "      <td>2017-10-13 03:36:35</td>\n",
       "      <td>2</td>\n",
       "      <td>20691</td>\n",
       "      <td>2017-10-13 03:36:59.095</td>\n",
       "      <td>4</td>\n",
       "      <td>3</td>\n",
       "      <td>20</td>\n",
       "      <td>1</td>\n",
       "      <td>9</td>\n",
       "      <td>2</td>\n",
       "    </tr>\n",
       "    <tr>\n",
       "      <th>3</th>\n",
       "      <td>31892</td>\n",
       "      <td>19636</td>\n",
       "      <td>2017-10-13 03:36:35</td>\n",
       "      <td>2</td>\n",
       "      <td>30674</td>\n",
       "      <td>2017-10-13 03:37:29.095</td>\n",
       "      <td>4</td>\n",
       "      <td>3</td>\n",
       "      <td>20</td>\n",
       "      <td>1</td>\n",
       "      <td>9</td>\n",
       "      <td>2</td>\n",
       "    </tr>\n",
       "    <tr>\n",
       "      <th>4</th>\n",
       "      <td>11600</td>\n",
       "      <td>43061</td>\n",
       "      <td>2017-10-13 03:36:36</td>\n",
       "      <td>2</td>\n",
       "      <td>8565</td>\n",
       "      <td>2017-10-13 03:42:13.178</td>\n",
       "      <td>4</td>\n",
       "      <td>3</td>\n",
       "      <td>2</td>\n",
       "      <td>1</td>\n",
       "      <td>25</td>\n",
       "      <td>2</td>\n",
       "    </tr>\n",
       "  </tbody>\n",
       "</table>\n",
       "</div>"
      ],
      "text/plain": [
       "   user_id  session_id       session_start  session_size  click_article_id  \\\n",
       "0    28327       26291 2017-10-13 03:36:32             2             30674   \n",
       "1    28327       26291 2017-10-13 03:36:32             2             27022   \n",
       "2    31892       19636 2017-10-13 03:36:35             2             20691   \n",
       "3    31892       19636 2017-10-13 03:36:35             2             30674   \n",
       "4    11600       43061 2017-10-13 03:36:36             2              8565   \n",
       "\n",
       "          click_timestamp  click_environment  click_deviceGroup  click_os  \\\n",
       "0 2017-10-13 03:37:12.925                  4                  3         2   \n",
       "1 2017-10-13 03:37:42.925                  4                  3         2   \n",
       "2 2017-10-13 03:36:59.095                  4                  3        20   \n",
       "3 2017-10-13 03:37:29.095                  4                  3        20   \n",
       "4 2017-10-13 03:42:13.178                  4                  3         2   \n",
       "\n",
       "   click_country  click_region  click_referrer_type  \n",
       "0              1            21                    2  \n",
       "1              1            21                    2  \n",
       "2              1             9                    2  \n",
       "3              1             9                    2  \n",
       "4              1            25                    2  "
      ]
     },
     "execution_count": 31,
     "metadata": {},
     "output_type": "execute_result"
    }
   ],
   "source": [
    "clicks_df.head()"
   ]
  },
  {
   "cell_type": "code",
   "execution_count": 32,
   "metadata": {
    "editable": true,
    "slideshow": {
     "slide_type": ""
    },
    "tags": []
   },
   "outputs": [
    {
     "data": {
      "text/plain": [
       "(2988181, 12)"
      ]
     },
     "execution_count": 32,
     "metadata": {},
     "output_type": "execute_result"
    }
   ],
   "source": [
    "clicks_df.shape"
   ]
  },
  {
   "cell_type": "code",
   "execution_count": 33,
   "metadata": {
    "editable": true,
    "slideshow": {
     "slide_type": ""
    },
    "tags": []
   },
   "outputs": [
    {
     "name": "stdout",
     "output_type": "stream",
     "text": [
      "user_id                        uint16\n",
      "session_id                     uint16\n",
      "session_start          datetime64[ns]\n",
      "session_size                    uint8\n",
      "click_article_id               uint16\n",
      "click_timestamp        datetime64[ns]\n",
      "click_environment               uint8\n",
      "click_deviceGroup               uint8\n",
      "click_os                        uint8\n",
      "click_country                   uint8\n",
      "click_region                    uint8\n",
      "click_referrer_type             uint8\n",
      "dtype: object\n",
      "Combined DataFrame memory usage: 82.64 MB\n"
     ]
    }
   ],
   "source": [
    "# 5. Inspect dtypes and memory footprint\n",
    "print(clicks_df.dtypes)\n",
    "mem_mb = clicks_df.memory_usage(deep=True).sum() / 2**20\n",
    "print(f\"Combined DataFrame memory usage: {mem_mb:.2f} MB\")"
   ]
  },
  {
   "cell_type": "code",
   "execution_count": 34,
   "metadata": {
    "editable": true,
    "gather": {
     "logged": 1745709095476
    },
    "slideshow": {
     "slide_type": ""
    },
    "tags": []
   },
   "outputs": [
    {
     "name": "stdout",
     "output_type": "stream",
     "text": [
      "Wrote combined DataFrame to '../datasets/combined_clicks.parquet'\n"
     ]
    }
   ],
   "source": [
    "# 6. (Optional) Persist to disk for downstream use\n",
    "output_path = \"../datasets/combined_clicks.parquet\"\n",
    "clicks_df.to_parquet(output_path, index=False)\n",
    "print(f\"Wrote combined DataFrame to '{output_path}'\")"
   ]
  },
  {
   "cell_type": "code",
   "execution_count": null,
   "metadata": {
    "editable": true,
    "gather": {
     "logged": 1745709394059
    },
    "slideshow": {
     "slide_type": ""
    },
    "tags": []
   },
   "outputs": [],
   "source": []
  },
  {
   "cell_type": "code",
   "execution_count": 35,
   "metadata": {
    "editable": true,
    "gather": {
     "logged": 1745760095803
    },
    "slideshow": {
     "slide_type": ""
    },
    "tags": []
   },
   "outputs": [
    {
     "name": "stdout",
     "output_type": "stream",
     "text": [
      "(2988181, 12)\n",
      "user_id                        uint16\n",
      "session_id                     uint16\n",
      "session_start          datetime64[ns]\n",
      "session_size                    uint8\n",
      "click_article_id               uint16\n",
      "click_timestamp        datetime64[ns]\n",
      "click_environment               uint8\n",
      "click_deviceGroup               uint8\n",
      "click_os                        uint8\n",
      "click_country                   uint8\n",
      "click_region                    uint8\n",
      "click_referrer_type             uint8\n",
      "dtype: object\n"
     ]
    }
   ],
   "source": [
    "import pandas as pd\n",
    "\n",
    "# Load the combined clicks Parquet\n",
    "clicks_df = pd.read_parquet(\"../datasets/combined_clicks.parquet\")\n",
    "\n",
    "# Quick sanity check\n",
    "print(clicks_df.shape)\n",
    "print(clicks_df.dtypes)"
   ]
  },
  {
   "cell_type": "code",
   "execution_count": 36,
   "metadata": {
    "editable": true,
    "gather": {
     "logged": 1745740190738
    },
    "slideshow": {
     "slide_type": ""
    },
    "tags": []
   },
   "outputs": [
    {
     "name": "stdout",
     "output_type": "stream",
     "text": [
      "Click timestamps span from 2017-10-01 02:37:03 to 2017-10-17 03:36:19\n",
      "Date range: 2017-10-01 → 2017-10-17\n"
     ]
    }
   ],
   "source": [
    "import pandas as pd\n",
    "\n",
    "# Explicit min/max for clear range\n",
    "min_ts = clicks_df['session_start'].min()\n",
    "max_ts = clicks_df['session_start'].max()\n",
    "print(f\"Click timestamps span from {min_ts} to {max_ts}\")\n",
    "print(f\"Date range: {min_ts.date()} → {max_ts.date()}\")\n"
   ]
  },
  {
   "cell_type": "markdown",
   "metadata": {
    "editable": true,
    "nteract": {
     "transient": {
      "deleting": false
     }
    },
    "slideshow": {
     "slide_type": ""
    },
    "tags": []
   },
   "source": [
    "## 2.4 Create Train/Validation/Testing Dataset - Last Click Out for Each User"
   ]
  },
  {
   "cell_type": "markdown",
   "metadata": {
    "editable": true,
    "slideshow": {
     "slide_type": ""
    },
    "tags": []
   },
   "source": [
    "### Creation of training dataset"
   ]
  },
  {
   "cell_type": "code",
   "execution_count": 37,
   "metadata": {
    "editable": true,
    "slideshow": {
     "slide_type": ""
    },
    "tags": []
   },
   "outputs": [
    {
     "data": {
      "text/html": [
       "<div>\n",
       "<style scoped>\n",
       "    .dataframe tbody tr th:only-of-type {\n",
       "        vertical-align: middle;\n",
       "    }\n",
       "\n",
       "    .dataframe tbody tr th {\n",
       "        vertical-align: top;\n",
       "    }\n",
       "\n",
       "    .dataframe thead th {\n",
       "        text-align: right;\n",
       "    }\n",
       "</style>\n",
       "<table border=\"1\" class=\"dataframe\">\n",
       "  <thead>\n",
       "    <tr style=\"text-align: right;\">\n",
       "      <th></th>\n",
       "      <th>user_id</th>\n",
       "      <th>session_id</th>\n",
       "      <th>session_start</th>\n",
       "      <th>session_size</th>\n",
       "      <th>click_article_id</th>\n",
       "      <th>click_timestamp</th>\n",
       "      <th>click_environment</th>\n",
       "      <th>click_deviceGroup</th>\n",
       "      <th>click_os</th>\n",
       "      <th>click_country</th>\n",
       "      <th>click_region</th>\n",
       "      <th>click_referrer_type</th>\n",
       "    </tr>\n",
       "  </thead>\n",
       "  <tbody>\n",
       "    <tr>\n",
       "      <th>0</th>\n",
       "      <td>28327</td>\n",
       "      <td>26291</td>\n",
       "      <td>2017-10-13 03:36:32</td>\n",
       "      <td>2</td>\n",
       "      <td>30674</td>\n",
       "      <td>2017-10-13 03:37:12.925</td>\n",
       "      <td>4</td>\n",
       "      <td>3</td>\n",
       "      <td>2</td>\n",
       "      <td>1</td>\n",
       "      <td>21</td>\n",
       "      <td>2</td>\n",
       "    </tr>\n",
       "    <tr>\n",
       "      <th>1</th>\n",
       "      <td>28327</td>\n",
       "      <td>26291</td>\n",
       "      <td>2017-10-13 03:36:32</td>\n",
       "      <td>2</td>\n",
       "      <td>27022</td>\n",
       "      <td>2017-10-13 03:37:42.925</td>\n",
       "      <td>4</td>\n",
       "      <td>3</td>\n",
       "      <td>2</td>\n",
       "      <td>1</td>\n",
       "      <td>21</td>\n",
       "      <td>2</td>\n",
       "    </tr>\n",
       "    <tr>\n",
       "      <th>2</th>\n",
       "      <td>31892</td>\n",
       "      <td>19636</td>\n",
       "      <td>2017-10-13 03:36:35</td>\n",
       "      <td>2</td>\n",
       "      <td>20691</td>\n",
       "      <td>2017-10-13 03:36:59.095</td>\n",
       "      <td>4</td>\n",
       "      <td>3</td>\n",
       "      <td>20</td>\n",
       "      <td>1</td>\n",
       "      <td>9</td>\n",
       "      <td>2</td>\n",
       "    </tr>\n",
       "    <tr>\n",
       "      <th>3</th>\n",
       "      <td>31892</td>\n",
       "      <td>19636</td>\n",
       "      <td>2017-10-13 03:36:35</td>\n",
       "      <td>2</td>\n",
       "      <td>30674</td>\n",
       "      <td>2017-10-13 03:37:29.095</td>\n",
       "      <td>4</td>\n",
       "      <td>3</td>\n",
       "      <td>20</td>\n",
       "      <td>1</td>\n",
       "      <td>9</td>\n",
       "      <td>2</td>\n",
       "    </tr>\n",
       "    <tr>\n",
       "      <th>4</th>\n",
       "      <td>11600</td>\n",
       "      <td>43061</td>\n",
       "      <td>2017-10-13 03:36:36</td>\n",
       "      <td>2</td>\n",
       "      <td>8565</td>\n",
       "      <td>2017-10-13 03:42:13.178</td>\n",
       "      <td>4</td>\n",
       "      <td>3</td>\n",
       "      <td>2</td>\n",
       "      <td>1</td>\n",
       "      <td>25</td>\n",
       "      <td>2</td>\n",
       "    </tr>\n",
       "  </tbody>\n",
       "</table>\n",
       "</div>"
      ],
      "text/plain": [
       "   user_id  session_id       session_start  session_size  click_article_id  \\\n",
       "0    28327       26291 2017-10-13 03:36:32             2             30674   \n",
       "1    28327       26291 2017-10-13 03:36:32             2             27022   \n",
       "2    31892       19636 2017-10-13 03:36:35             2             20691   \n",
       "3    31892       19636 2017-10-13 03:36:35             2             30674   \n",
       "4    11600       43061 2017-10-13 03:36:36             2              8565   \n",
       "\n",
       "          click_timestamp  click_environment  click_deviceGroup  click_os  \\\n",
       "0 2017-10-13 03:37:12.925                  4                  3         2   \n",
       "1 2017-10-13 03:37:42.925                  4                  3         2   \n",
       "2 2017-10-13 03:36:59.095                  4                  3        20   \n",
       "3 2017-10-13 03:37:29.095                  4                  3        20   \n",
       "4 2017-10-13 03:42:13.178                  4                  3         2   \n",
       "\n",
       "   click_country  click_region  click_referrer_type  \n",
       "0              1            21                    2  \n",
       "1              1            21                    2  \n",
       "2              1             9                    2  \n",
       "3              1             9                    2  \n",
       "4              1            25                    2  "
      ]
     },
     "execution_count": 37,
     "metadata": {},
     "output_type": "execute_result"
    }
   ],
   "source": [
    "# 1. Load & sort\n",
    "clicks_df = pd.read_parquet(\"../datasets/combined_clicks.parquet\")\n",
    "clicks_df.head()"
   ]
  },
  {
   "cell_type": "code",
   "execution_count": 38,
   "metadata": {
    "editable": true,
    "gather": {
     "logged": 1745760165308
    },
    "slideshow": {
     "slide_type": ""
    },
    "tags": []
   },
   "outputs": [
    {
     "data": {
      "text/html": [
       "<div>\n",
       "<style scoped>\n",
       "    .dataframe tbody tr th:only-of-type {\n",
       "        vertical-align: middle;\n",
       "    }\n",
       "\n",
       "    .dataframe tbody tr th {\n",
       "        vertical-align: top;\n",
       "    }\n",
       "\n",
       "    .dataframe thead th {\n",
       "        text-align: right;\n",
       "    }\n",
       "</style>\n",
       "<table border=\"1\" class=\"dataframe\">\n",
       "  <thead>\n",
       "    <tr style=\"text-align: right;\">\n",
       "      <th></th>\n",
       "      <th>user_id</th>\n",
       "      <th>session_id</th>\n",
       "      <th>session_start</th>\n",
       "      <th>session_size</th>\n",
       "      <th>click_article_id</th>\n",
       "      <th>click_timestamp</th>\n",
       "      <th>click_environment</th>\n",
       "      <th>click_deviceGroup</th>\n",
       "      <th>click_os</th>\n",
       "      <th>click_country</th>\n",
       "      <th>click_region</th>\n",
       "      <th>click_referrer_type</th>\n",
       "    </tr>\n",
       "  </thead>\n",
       "  <tbody>\n",
       "    <tr>\n",
       "      <th>858202</th>\n",
       "      <td>0</td>\n",
       "      <td>46905</td>\n",
       "      <td>2017-10-01 02:37:03</td>\n",
       "      <td>2</td>\n",
       "      <td>26469</td>\n",
       "      <td>2017-10-01 03:00:28.020</td>\n",
       "      <td>4</td>\n",
       "      <td>3</td>\n",
       "      <td>20</td>\n",
       "      <td>1</td>\n",
       "      <td>20</td>\n",
       "      <td>2</td>\n",
       "    </tr>\n",
       "    <tr>\n",
       "      <th>858203</th>\n",
       "      <td>0</td>\n",
       "      <td>46905</td>\n",
       "      <td>2017-10-01 02:37:03</td>\n",
       "      <td>2</td>\n",
       "      <td>3330</td>\n",
       "      <td>2017-10-01 03:00:58.020</td>\n",
       "      <td>4</td>\n",
       "      <td>3</td>\n",
       "      <td>20</td>\n",
       "      <td>1</td>\n",
       "      <td>20</td>\n",
       "      <td>2</td>\n",
       "    </tr>\n",
       "    <tr>\n",
       "      <th>1533659</th>\n",
       "      <td>0</td>\n",
       "      <td>11407</td>\n",
       "      <td>2017-10-02 14:19:46</td>\n",
       "      <td>2</td>\n",
       "      <td>29902</td>\n",
       "      <td>2017-10-02 14:20:35.463</td>\n",
       "      <td>4</td>\n",
       "      <td>1</td>\n",
       "      <td>17</td>\n",
       "      <td>1</td>\n",
       "      <td>25</td>\n",
       "      <td>2</td>\n",
       "    </tr>\n",
       "    <tr>\n",
       "      <th>1533660</th>\n",
       "      <td>0</td>\n",
       "      <td>11407</td>\n",
       "      <td>2017-10-02 14:19:46</td>\n",
       "      <td>2</td>\n",
       "      <td>59758</td>\n",
       "      <td>2017-10-02 14:21:05.463</td>\n",
       "      <td>4</td>\n",
       "      <td>1</td>\n",
       "      <td>17</td>\n",
       "      <td>1</td>\n",
       "      <td>25</td>\n",
       "      <td>2</td>\n",
       "    </tr>\n",
       "    <tr>\n",
       "      <th>514461</th>\n",
       "      <td>0</td>\n",
       "      <td>52099</td>\n",
       "      <td>2017-10-03 14:20:40</td>\n",
       "      <td>2</td>\n",
       "      <td>8796</td>\n",
       "      <td>2017-10-03 14:22:08.076</td>\n",
       "      <td>4</td>\n",
       "      <td>1</td>\n",
       "      <td>17</td>\n",
       "      <td>1</td>\n",
       "      <td>25</td>\n",
       "      <td>2</td>\n",
       "    </tr>\n",
       "  </tbody>\n",
       "</table>\n",
       "</div>"
      ],
      "text/plain": [
       "         user_id  session_id       session_start  session_size  \\\n",
       "858202         0       46905 2017-10-01 02:37:03             2   \n",
       "858203         0       46905 2017-10-01 02:37:03             2   \n",
       "1533659        0       11407 2017-10-02 14:19:46             2   \n",
       "1533660        0       11407 2017-10-02 14:19:46             2   \n",
       "514461         0       52099 2017-10-03 14:20:40             2   \n",
       "\n",
       "         click_article_id         click_timestamp  click_environment  \\\n",
       "858202              26469 2017-10-01 03:00:28.020                  4   \n",
       "858203               3330 2017-10-01 03:00:58.020                  4   \n",
       "1533659             29902 2017-10-02 14:20:35.463                  4   \n",
       "1533660             59758 2017-10-02 14:21:05.463                  4   \n",
       "514461               8796 2017-10-03 14:22:08.076                  4   \n",
       "\n",
       "         click_deviceGroup  click_os  click_country  click_region  \\\n",
       "858202                   3        20              1            20   \n",
       "858203                   3        20              1            20   \n",
       "1533659                  1        17              1            25   \n",
       "1533660                  1        17              1            25   \n",
       "514461                   1        17              1            25   \n",
       "\n",
       "         click_referrer_type  \n",
       "858202                     2  \n",
       "858203                     2  \n",
       "1533659                    2  \n",
       "1533660                    2  \n",
       "514461                     2  "
      ]
     },
     "execution_count": 38,
     "metadata": {},
     "output_type": "execute_result"
    }
   ],
   "source": [
    "clicks_df = clicks_df.sort_values([\"user_id\", \"click_timestamp\"])\n",
    "clicks_df.head()"
   ]
  },
  {
   "cell_type": "code",
   "execution_count": 63,
   "metadata": {
    "editable": true,
    "slideshow": {
     "slide_type": ""
    },
    "tags": []
   },
   "outputs": [],
   "source": [
    "# 2. Identify test clicks (last per user)\n",
    "last_idx = clicks_df.groupby(\"user_id\")[\"click_timestamp\"].idxmax()\n",
    "is_test  = clicks_df.index.isin(last_idx)"
   ]
  },
  {
   "cell_type": "code",
   "execution_count": 49,
   "metadata": {
    "editable": true,
    "slideshow": {
     "slide_type": ""
    },
    "tags": []
   },
   "outputs": [
    {
     "name": "stdout",
     "output_type": "stream",
     "text": [
      "(2922645, 12)\n",
      "(2988181, 12)\n"
     ]
    }
   ],
   "source": [
    "# 3. From the TRAIN portion, identify validation clicks (now the last in train_df)\n",
    "train_df_full = clicks_df.loc[~is_test]\n",
    "print(train_df_full.shape)\n",
    "print(clicks_df.shape)"
   ]
  },
  {
   "cell_type": "code",
   "execution_count": 64,
   "metadata": {
    "editable": true,
    "gather": {
     "logged": 1745760282228
    },
    "slideshow": {
     "slide_type": ""
    },
    "tags": []
   },
   "outputs": [],
   "source": [
    "val_idx       = train_df_full.groupby(\"user_id\")[\"click_timestamp\"].idxmax()\n",
    "is_val        = clicks_df.index.isin(val_idx)"
   ]
  },
  {
   "cell_type": "code",
   "execution_count": 65,
   "metadata": {
    "editable": true,
    "gather": {
     "logged": 1745760301743
    },
    "slideshow": {
     "slide_type": ""
    },
    "tags": []
   },
   "outputs": [
    {
     "name": "stdout",
     "output_type": "stream",
     "text": [
      "(2857109, 12)\n",
      "(65536, 12)\n",
      "(65536, 12)\n"
     ]
    }
   ],
   "source": [
    "# 4. Build splits\n",
    "train_df = clicks_df.loc[~is_test & ~is_val].reset_index(drop=True)\n",
    "val_df   = clicks_df.loc[ is_val         ].reset_index(drop=True)\n",
    "test_df  = clicks_df.loc[ is_test        ].reset_index(drop=True)\n",
    "print(train_df.shape)\n",
    "print(val_df.shape)\n",
    "print(test_df.shape)"
   ]
  },
  {
   "cell_type": "code",
   "execution_count": 66,
   "metadata": {
    "editable": true,
    "gather": {
     "logged": 1745760367058
    },
    "slideshow": {
     "slide_type": ""
    },
    "tags": []
   },
   "outputs": [
    {
     "name": "stdout",
     "output_type": "stream",
     "text": [
      "Train: 2,857,109 clicks\n",
      "Val:   65,536 clicks (one per user)\n",
      "Test:  65,536 clicks (one per user)\n"
     ]
    }
   ],
   "source": [
    "print(f\"Train: {len(train_df):,} clicks\")\n",
    "print(f\"Val:   {len(val_df):,} clicks (one per user)\")\n",
    "print(f\"Test:  {len(test_df):,} clicks (one per user)\")"
   ]
  },
  {
   "cell_type": "markdown",
   "metadata": {
    "editable": true,
    "slideshow": {
     "slide_type": ""
    },
    "tags": []
   },
   "source": [
    "### Removing articles if they were published after last published article in training set "
   ]
  },
  {
   "cell_type": "markdown",
   "metadata": {
    "editable": true,
    "slideshow": {
     "slide_type": ""
    },
    "tags": []
   },
   "source": [
    "#### Testing set"
   ]
  },
  {
   "cell_type": "code",
   "execution_count": 67,
   "metadata": {
    "editable": true,
    "slideshow": {
     "slide_type": ""
    },
    "tags": []
   },
   "outputs": [],
   "source": [
    "# 1. Load the articles metadata to get publication timestamps\n",
    "articles_metadata = pd.read_csv(\"../datasets/articles_metadata.csv\")\n",
    "\n",
    "# 2. Find the timestamp of the last article in the training data\n",
    "# First, get all article IDs in the training data\n",
    "train_article_ids = train_df[\"click_article_id\"].unique()"
   ]
  },
  {
   "cell_type": "code",
   "execution_count": 68,
   "metadata": {
    "editable": true,
    "slideshow": {
     "slide_type": ""
    },
    "tags": []
   },
   "outputs": [],
   "source": [
    "# Filter articles metadata to only include training articles\n",
    "train_articles = articles_metadata[articles_metadata[\"article_id\"].isin(train_article_ids)]\n",
    "\n",
    "# Get the timestamp of the last published article in the training data\n",
    "# Assuming there's a 'created_at_ts' column in articles_metadata\n",
    "last_train_article_ts = train_articles[\"created_at_ts\"].max()"
   ]
  },
  {
   "cell_type": "code",
   "execution_count": 69,
   "metadata": {
    "editable": true,
    "slideshow": {
     "slide_type": ""
    },
    "tags": []
   },
   "outputs": [],
   "source": [
    "# 3. Filter test data to only include articles published before or at the same time as the last training article\n",
    "# First, create a mapping from article_id to publication timestamp\n",
    "article_to_pub_time = dict(zip(articles_metadata[\"article_id\"], articles_metadata[\"created_at_ts\"]))"
   ]
  },
  {
   "cell_type": "code",
   "execution_count": 70,
   "metadata": {
    "editable": true,
    "slideshow": {
     "slide_type": ""
    },
    "tags": []
   },
   "outputs": [],
   "source": [
    "# Filter test_df to only include articles published before the cutoff\n",
    "valid_test_df = test_df[test_df[\"click_article_id\"].apply(\n",
    "    lambda article_id: article_to_pub_time.get(article_id, 0) <= last_train_article_ts\n",
    ")]"
   ]
  },
  {
   "cell_type": "code",
   "execution_count": 71,
   "metadata": {
    "editable": true,
    "slideshow": {
     "slide_type": ""
    },
    "tags": []
   },
   "outputs": [
    {
     "name": "stdout",
     "output_type": "stream",
     "text": [
      "Original test set: 65536 entries\n",
      "Filtered test set: 65536 entries\n",
      "Removed 0 entries (0.00%) with articles published after the training cutoff\n"
     ]
    }
   ],
   "source": [
    "# After filtering the test data\n",
    "valid_test_df = test_df[test_df[\"click_article_id\"].apply(\n",
    "    lambda article_id: article_to_pub_time.get(article_id, 0) <= last_train_article_ts\n",
    ")]\n",
    "\n",
    "# Calculate the number of entries removed\n",
    "total_test_entries = len(test_df)\n",
    "valid_test_entries = len(valid_test_df)\n",
    "removed_entries = total_test_entries - valid_test_entries\n",
    "\n",
    "# Calculate percentage\n",
    "removal_percentage = (removed_entries / total_test_entries) * 100 if total_test_entries > 0 else 0\n",
    "\n",
    "# Print statistics\n",
    "print(f\"Original test set: {total_test_entries} entries\")\n",
    "print(f\"Filtered test set: {valid_test_entries} entries\")\n",
    "print(f\"Removed {removed_entries} entries ({removal_percentage:.2f}%) with articles published after the training cutoff\")\n",
    "\n",
    "# You could also analyze which articles were removed\n",
    "if removed_entries > 0:\n",
    "    future_articles_mask = ~test_df[\"click_article_id\"].apply(\n",
    "        lambda article_id: article_to_pub_time.get(article_id, 0) <= last_train_article_ts\n",
    "    )\n",
    "    future_articles = test_df[future_articles_mask][\"click_article_id\"].unique()\n",
    "    print(f\"Number of unique future articles removed: {len(future_articles)}\")"
   ]
  },
  {
   "cell_type": "code",
   "execution_count": null,
   "metadata": {
    "editable": true,
    "slideshow": {
     "slide_type": ""
    },
    "tags": []
   },
   "outputs": [],
   "source": []
  },
  {
   "cell_type": "markdown",
   "metadata": {
    "editable": true,
    "slideshow": {
     "slide_type": ""
    },
    "tags": []
   },
   "source": [
    "### Validation Test"
   ]
  },
  {
   "cell_type": "code",
   "execution_count": 72,
   "metadata": {
    "editable": true,
    "slideshow": {
     "slide_type": ""
    },
    "tags": []
   },
   "outputs": [
    {
     "name": "stdout",
     "output_type": "stream",
     "text": [
      "Original validation set: 65536 entries\n",
      "Filtered validation set: 65536 entries\n",
      "Removed 0 entries (0.00%) with articles published after the training cutoff\n"
     ]
    }
   ],
   "source": [
    "# # 1. First, we need to find the timestamp of the last article in the training data\n",
    "# # (Assuming we've already loaded articles_metadata and created article_to_pub_time dictionary)\n",
    "\n",
    "# # Get all article IDs in the training data\n",
    "# train_article_ids = train_df[\"click_article_id\"].unique()\n",
    "\n",
    "# # Filter articles metadata to only include training articles\n",
    "# train_articles = articles_metadata[articles_metadata[\"article_id\"].isin(train_article_ids)]\n",
    "\n",
    "# # Get the timestamp of the last published article in the training data\n",
    "# last_train_article_ts = train_articles[\"created_at_ts\"].max()\n",
    "\n",
    "# 2. Filter validation data to only include articles published before or at the same time as the last training article\n",
    "valid_val_df = val_df[val_df[\"click_article_id\"].apply(\n",
    "    lambda article_id: article_to_pub_time.get(article_id, 0) <= last_train_article_ts\n",
    ")]\n",
    "\n",
    "# 3. Calculate statistics\n",
    "total_val_entries = len(val_df)\n",
    "valid_val_entries = len(valid_val_df)\n",
    "removed_val_entries = total_val_entries - valid_val_entries\n",
    "removal_percentage = (removed_val_entries / total_val_entries) * 100 if total_val_entries > 0 else 0\n",
    "\n",
    "# 4. Print statistics\n",
    "print(f\"Original validation set: {total_val_entries} entries\")\n",
    "print(f\"Filtered validation set: {valid_val_entries} entries\")\n",
    "print(f\"Removed {removed_val_entries} entries ({removal_percentage:.2f}%) with articles published after the training cutoff\")\n",
    "\n",
    "# 5. Optionally analyze which articles were removed\n",
    "if removed_val_entries > 0:\n",
    "    future_articles_mask = ~val_df[\"click_article_id\"].apply(\n",
    "        lambda article_id: article_to_pub_time.get(article_id, 0) <= last_train_article_ts\n",
    "    )\n",
    "    future_articles = val_df[future_articles_mask][\"click_article_id\"].unique()\n",
    "    print(f\"Number of unique future articles removed from validation set: {len(future_articles)}\")\n",
    "\n",
    "# 6. Save the filtered validation dataset\n",
    "valid_val_df.to_parquet(\"../datasets/filtered_valid_clicks.parquet\", index=False)"
   ]
  },
  {
   "cell_type": "markdown",
   "metadata": {
    "editable": true,
    "slideshow": {
     "slide_type": ""
    },
    "tags": []
   },
   "source": [
    "### Save clean validation and test sets"
   ]
  },
  {
   "cell_type": "code",
   "execution_count": 73,
   "metadata": {
    "editable": true,
    "gather": {
     "logged": 1745760585333
    },
    "slideshow": {
     "slide_type": ""
    },
    "tags": []
   },
   "outputs": [],
   "source": [
    "output_path_train = \"../datasets/train_clicks.parquet\"\n",
    "output_path_valid = \"../datasets/valid_clicks.parquet\"\n",
    "output_path_test = \"../datasets/test_clicks.parquet\""
   ]
  },
  {
   "cell_type": "code",
   "execution_count": 74,
   "metadata": {
    "editable": true,
    "gather": {
     "logged": 1745760664907
    },
    "slideshow": {
     "slide_type": ""
    },
    "tags": []
   },
   "outputs": [],
   "source": [
    "train_df.to_parquet(output_path_train, index=False)\n",
    "val_df.to_parquet(output_path_valid, index=False)\n",
    "test_df.to_parquet(output_path_test, index=False)"
   ]
  }
 ],
 "metadata": {
  "kernel_info": {
   "name": "python38-azureml"
  },
  "kernelspec": {
   "display_name": "Python (p9-recsys)",
   "language": "python",
   "name": "p9-recsys"
  },
  "language_info": {
   "codemirror_mode": {
    "name": "ipython",
    "version": 3
   },
   "file_extension": ".py",
   "mimetype": "text/x-python",
   "name": "python",
   "nbconvert_exporter": "python",
   "pygments_lexer": "ipython3",
   "version": "3.8.20"
  },
  "microsoft": {
   "host": {
    "AzureML": {
     "notebookHasBeenCompleted": true
    }
   },
   "ms_spell_check": {
    "ms_spell_check_language": "en"
   }
  },
  "nteract": {
   "version": "nteract-front-end@1.0.0"
  }
 },
 "nbformat": 4,
 "nbformat_minor": 4
}
